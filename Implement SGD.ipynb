{
 "cells": [
  {
   "cell_type": "markdown",
   "metadata": {},
   "source": [
    "https://www.kaggle.com/c/boston-housing\n"
   ]
  },
  {
   "cell_type": "markdown",
   "metadata": {},
   "source": [
    "### Boston House Prices dataset"
   ]
  },
  {
   "cell_type": "markdown",
   "metadata": {},
   "source": [
    "#### Data Set Characteristics:\n",
    "\n",
    ":Number of Instances: 506 \n",
    "\n",
    ":Number of Attributes: 13 numeric/categorical\n",
    "\n",
    ":Median Value (attribute 14) is usually the target\n",
    "\n",
    ":Attribute Information (in order):\n",
    "    - CRIM     per capita crime rate by town\n",
    "    - ZN       proportion of residential land zoned for lots over 25,000 sq.ft.\n",
    "    - INDUS    proportion of non-retail business acres per town\n",
    "    - CHAS     Charles River dummy variable (= 1 if tract bounds river; 0 otherwise)\n",
    "    - NOX      nitric oxides concentration (parts per 10 million)\n",
    "    - RM       average number of rooms per dwelling\n",
    "    - AGE      proportion of owner-occupied units built prior to 1940\n",
    "    - DIS      weighted distances to five Boston employment centres\n",
    "    - RAD      index of accessibility to radial highways\n",
    "    - TAX      full-value property-tax rate per $10,000\n",
    "    - PTRATIO  pupil-teacher ratio by town\n",
    "    - B        1000(Bk - 0.63)^2 where Bk is the proportion of blacks by town\n",
    "    - LSTAT    % lower status of the population\n",
    "    - MEDV     Median value of owner-occupied homes in $1000's\n",
    "\n",
    ":Missing Attribute Values: None\n",
    "\n",
    ":Creator: Harrison, D. and Rubinfeld, D.L.\n",
    "\n",
    "This is a copy of UCI ML housing dataset. http://archive.ics.uci.edu/ml/datasets/Housing\n",
    "\n",
    "This dataset was taken from the StatLib library which is maintained at Carnegie Mellon University.\n",
    "\n",
    "The Boston house-price data of Harrison, D. and Rubinfeld, D.L. 'Hedonic prices and the demand for clean air', J. Environ. Economics & Management, vol.5, 81-102, 1978. Used in Belsley, Kuh & Welsch, 'Regression diagnostics ...', Wiley, 1980. N.B. Various transformations are used in the table on pages 244-261 of the latter.\n",
    "\n",
    "The Boston house-price data has been used in many machine learning papers that address regression problems.\n",
    "\n"
   ]
  },
  {
   "cell_type": "code",
   "execution_count": 1,
   "metadata": {},
   "outputs": [
    {
     "name": "stderr",
     "output_type": "stream",
     "text": [
      "C:\\Users\\keert\\Anaconda3\\lib\\site-packages\\sklearn\\cross_validation.py:41: DeprecationWarning: This module was deprecated in version 0.18 in favor of the model_selection module into which all the refactored classes and functions are moved. Also note that the interface of the new CV iterators are different from that of this module. This module will be removed in 0.20.\n",
      "  \"This module will be removed in 0.20.\", DeprecationWarning)\n"
     ]
    }
   ],
   "source": [
    "%matplotlib inline\n",
    "import warnings\n",
    "warnings.filterwarnings('ignore')\n",
    "\n",
    "import numpy as np\n",
    "from sklearn.preprocessing import StandardScaler\n",
    "from sklearn.cross_validation import train_test_split\n",
    "import seaborn as sns\n",
    "import numpy as np\n",
    "from sklearn.linear_model import SGDRegressor\n",
    "from sklearn.metrics import mean_squared_error\n",
    "import matplotlib.pyplot as plt\n"
   ]
  },
  {
   "cell_type": "code",
   "execution_count": 2,
   "metadata": {},
   "outputs": [],
   "source": [
    "# loading boston datasets\n",
    "from sklearn.datasets import load_boston\n",
    "import pandas as pd"
   ]
  },
  {
   "cell_type": "code",
   "execution_count": 3,
   "metadata": {},
   "outputs": [],
   "source": [
    "boston_data = pd.DataFrame(data=load_boston().data)\n",
    "price_data = load_boston().target\n",
    "\n",
    "X_train,X_test,y_train,y_test = train_test_split(boston_data,price_data,\n",
    "                                                 test_size = 0.33,random_state= 5)"
   ]
  },
  {
   "cell_type": "code",
   "execution_count": 4,
   "metadata": {},
   "outputs": [],
   "source": [
    "# applying column standardization on train and test data\n",
    "# standardization sklearn: https://scikit-learn.org/stable/modules/generated/sklearn.preprocessing.StandardScaler.html\n",
    "scalar = StandardScaler()\n",
    "X_train = scalar.fit_transform(X_train)\n",
    "X_test = scalar.transform(X_test)"
   ]
  },
  {
   "cell_type": "code",
   "execution_count": 5,
   "metadata": {},
   "outputs": [],
   "source": [
    "#preparing training data for manual sgd regressor\n",
    "manual_train=pd.DataFrame(data=X_train)\n",
    "manual_train['price'] = y_train"
   ]
  },
  {
   "cell_type": "code",
   "execution_count": 6,
   "metadata": {},
   "outputs": [
    {
     "data": {
      "text/html": [
       "<div>\n",
       "<style scoped>\n",
       "    .dataframe tbody tr th:only-of-type {\n",
       "        vertical-align: middle;\n",
       "    }\n",
       "\n",
       "    .dataframe tbody tr th {\n",
       "        vertical-align: top;\n",
       "    }\n",
       "\n",
       "    .dataframe thead th {\n",
       "        text-align: right;\n",
       "    }\n",
       "</style>\n",
       "<table border=\"1\" class=\"dataframe\">\n",
       "  <thead>\n",
       "    <tr style=\"text-align: right;\">\n",
       "      <th></th>\n",
       "      <th>0</th>\n",
       "      <th>1</th>\n",
       "      <th>2</th>\n",
       "      <th>3</th>\n",
       "      <th>4</th>\n",
       "      <th>5</th>\n",
       "      <th>6</th>\n",
       "      <th>7</th>\n",
       "      <th>8</th>\n",
       "      <th>9</th>\n",
       "      <th>10</th>\n",
       "      <th>11</th>\n",
       "      <th>12</th>\n",
       "      <th>price</th>\n",
       "    </tr>\n",
       "  </thead>\n",
       "  <tbody>\n",
       "    <tr>\n",
       "      <th>0</th>\n",
       "      <td>0.911839</td>\n",
       "      <td>-0.502419</td>\n",
       "      <td>1.072305</td>\n",
       "      <td>-0.256978</td>\n",
       "      <td>1.633548</td>\n",
       "      <td>0.486034</td>\n",
       "      <td>0.962774</td>\n",
       "      <td>-0.823477</td>\n",
       "      <td>1.655334</td>\n",
       "      <td>1.552100</td>\n",
       "      <td>0.808078</td>\n",
       "      <td>-2.842959</td>\n",
       "      <td>1.523203</td>\n",
       "      <td>13.4</td>\n",
       "    </tr>\n",
       "    <tr>\n",
       "      <th>1</th>\n",
       "      <td>-0.411727</td>\n",
       "      <td>-0.502419</td>\n",
       "      <td>-1.129795</td>\n",
       "      <td>-0.256978</td>\n",
       "      <td>-0.552451</td>\n",
       "      <td>1.028078</td>\n",
       "      <td>0.668619</td>\n",
       "      <td>-0.183274</td>\n",
       "      <td>-0.871371</td>\n",
       "      <td>-0.802704</td>\n",
       "      <td>-0.304174</td>\n",
       "      <td>0.427436</td>\n",
       "      <td>-0.995240</td>\n",
       "      <td>23.6</td>\n",
       "    </tr>\n",
       "  </tbody>\n",
       "</table>\n",
       "</div>"
      ],
      "text/plain": [
       "          0         1         2         3         4         5         6  \\\n",
       "0  0.911839 -0.502419  1.072305 -0.256978  1.633548  0.486034  0.962774   \n",
       "1 -0.411727 -0.502419 -1.129795 -0.256978 -0.552451  1.028078  0.668619   \n",
       "\n",
       "          7         8         9        10        11        12  price  \n",
       "0 -0.823477  1.655334  1.552100  0.808078 -2.842959  1.523203   13.4  \n",
       "1 -0.183274 -0.871371 -0.802704 -0.304174  0.427436 -0.995240   23.6  "
      ]
     },
     "execution_count": 6,
     "metadata": {},
     "output_type": "execute_result"
    }
   ],
   "source": [
    "manual_train.head(2)"
   ]
  },
  {
   "cell_type": "code",
   "execution_count": 7,
   "metadata": {},
   "outputs": [],
   "source": [
    "# converting to numpy array, which will be available for both SGDRegressor of sklearn and manual sgd regressor\n",
    "X_test=np.array(X_test)\n",
    "y_test=np.array(y_test)"
   ]
  },
  {
   "cell_type": "code",
   "execution_count": 8,
   "metadata": {},
   "outputs": [],
   "source": [
    "results=pd.DataFrame(columns=['S_No', 'Algorithm', 'Alpha', 'LearningRateVariation',\n",
    "                              'Learning Rate', 'Power_t', 'No. of Iterations', \n",
    "                              'Mean Squared Error','Weights'])"
   ]
  },
  {
   "cell_type": "markdown",
   "metadata": {},
   "source": [
    "## SGDRegressor vs Manual SGD"
   ]
  },
  {
   "cell_type": "markdown",
   "metadata": {},
   "source": [
    "### A) Fixing learning rate(eta0) to 0.01 and Learning Rate Variation='Constant'"
   ]
  },
  {
   "cell_type": "markdown",
   "metadata": {},
   "source": [
    "### SGDRegressor"
   ]
  },
  {
   "cell_type": "code",
   "execution_count": 9,
   "metadata": {},
   "outputs": [],
   "source": [
    "#the functioning of this function is to use sklearn SGDRegressor and predict the price\n",
    "#this function takes alpha, learning rate variation , initial learning rate(eta0), number of iteration , power_t, and all test and train data as an argument\n",
    "#this function returns weight, intercept and mean squared error\n",
    "def sklearn_sgd(alpha, lr_rate_variation, eta0=0.01, power_t=0.25, n_iter=100, X_train=X_train, X_test=X_test, y_train=y_train, y_test=y_test):\n",
    "    clf=SGDRegressor(alpha=alpha, penalty=None, learning_rate=lr_rate_variation, eta0=eta0, power_t=power_t, n_iter=n_iter)\n",
    "    clf.fit(X_train, y_train)\n",
    "    y_pred=clf.predict(X_test)\n",
    "    \n",
    "    #scatter plot\n",
    "    plt.scatter(y_test,y_pred)\n",
    "    plt.title('Plot between Actual y and Predicted y')\n",
    "    plt.xlabel('Actual y')\n",
    "    plt.ylabel('Predicted y')\n",
    "    plt.grid(b=True, linewidth=0.5)\n",
    "    plt.show()\n",
    "    \n",
    "    \n",
    "    ## Mean Squared Error(MSE)   \n",
    "    mse=mean_squared_error(y_test,y_pred)\n",
    "    print('mean sq error=', mse)\n",
    "    print('number of iteration=', n_iter)\n",
    "    print('Weight =',clf.coef_)\n",
    "    \n",
    "    return clf.coef_, clf.intercept_, mse"
   ]
  },
  {
   "cell_type": "markdown",
   "metadata": {},
   "source": [
    "### 1. n_iter=1, lr_rate=0.01, lr_rate_variation='constant'"
   ]
  },
  {
   "cell_type": "code",
   "execution_count": 10,
   "metadata": {},
   "outputs": [
    {
     "name": "stderr",
     "output_type": "stream",
     "text": [
      "C:\\Users\\keert\\Anaconda3\\lib\\site-packages\\sklearn\\linear_model\\stochastic_gradient.py:117: DeprecationWarning: n_iter parameter is deprecated in 0.19 and will be removed in 0.21. Use max_iter and tol instead.\n",
      "  DeprecationWarning)\n"
     ]
    },
    {
     "data": {
      "image/png": "[encoded data removed]",
      "text/plain": [
       "<Figure size 432x288 with 1 Axes>"
      ]
     },
     "metadata": {},
     "output_type": "display_data"
    },
    {
     "name": "stdout",
     "output_type": "stream",
     "text": [
      "mean sq error= 29.481510267632803\n",
      "number of iteration= 1\n",
      "Weight = [-0.91430557  0.2640852  -0.56994749  0.82424474 -0.52159183  3.43578724\n",
      " -0.19273805 -1.87387027  1.21145892 -0.50978398 -1.39346396  0.9742262\n",
      " -2.63265866]\n"
     ]
    }
   ],
   "source": [
    "w_sgd, b_sgd, error_sgd=sklearn_sgd(alpha=0.0001, lr_rate_variation='constant',\n",
    "                                    eta0=0.01, n_iter=1)"
   ]
  },
  {
   "cell_type": "code",
   "execution_count": 11,
   "metadata": {},
   "outputs": [],
   "source": [
    "CurrentRow = [1, 'SGDRegressor', 0.0001, 'constant', 0.01, 0.25, 1, error_sgd, w_sgd] \n",
    "\n",
    "results.loc[0] = CurrentRow"
   ]
  },
  {
   "cell_type": "markdown",
   "metadata": {},
   "source": [
    "### 2. n_iter=100, lr_rate=0.01, lr_rate_variation='constant'"
   ]
  },
  {
   "cell_type": "code",
   "execution_count": 12,
   "metadata": {},
   "outputs": [
    {
     "name": "stderr",
     "output_type": "stream",
     "text": [
      "C:\\Users\\keert\\Anaconda3\\lib\\site-packages\\sklearn\\linear_model\\stochastic_gradient.py:117: DeprecationWarning: n_iter parameter is deprecated in 0.19 and will be removed in 0.21. Use max_iter and tol instead.\n",
      "  DeprecationWarning)\n"
     ]
    },
    {
     "data": {
      "image/png": "[encoded data removed]",
      "text/plain": [
       "<Figure size 432x288 with 1 Axes>"
      ]
     },
     "metadata": {},
     "output_type": "display_data"
    },
    {
     "name": "stdout",
     "output_type": "stream",
     "text": [
      "mean sq error= 26.95804646742456\n",
      "number of iteration= 100\n",
      "Weight = [-1.32286365  0.70726765 -0.12442224  0.70053428 -1.47781909  2.45047239\n",
      " -0.25954254 -2.9210959   3.28328673 -2.0784932  -1.78705286  0.79066796\n",
      " -3.37655173]\n"
     ]
    }
   ],
   "source": [
    "w_sgd, b_sgd, error_sgd=sklearn_sgd(alpha=0.0001, lr_rate_variation='constant',\n",
    "                                    eta0=0.01, n_iter=100)"
   ]
  },
  {
   "cell_type": "code",
   "execution_count": 13,
   "metadata": {},
   "outputs": [],
   "source": [
    "CurrentRow = [3, 'SGDRegressor', 0.0001, 'constant', 0.01, 0.25, 100, error_sgd, w_sgd] \n",
    "\n",
    "results.loc[1] = CurrentRow"
   ]
  },
  {
   "cell_type": "markdown",
   "metadata": {},
   "source": [
    "### 3. n_iter=1000, lr_rate=0.01, lr_rate_variation='constant'"
   ]
  },
  {
   "cell_type": "code",
   "execution_count": 14,
   "metadata": {},
   "outputs": [
    {
     "name": "stderr",
     "output_type": "stream",
     "text": [
      "C:\\Users\\keert\\Anaconda3\\lib\\site-packages\\sklearn\\linear_model\\stochastic_gradient.py:117: DeprecationWarning: n_iter parameter is deprecated in 0.19 and will be removed in 0.21. Use max_iter and tol instead.\n",
      "  DeprecationWarning)\n"
     ]
    },
    {
     "data": {
      "image/png": "[encoded data removed]",
      "text/plain": [
       "<Figure size 432x288 with 1 Axes>"
      ]
     },
     "metadata": {},
     "output_type": "display_data"
    },
    {
     "name": "stdout",
     "output_type": "stream",
     "text": [
      "mean sq error= 29.044332508840498\n",
      "number of iteration= 1000\n",
      "Weight = [-1.19810697  0.71353903 -0.18578204  0.37424116 -1.33953519  3.25825709\n",
      " -0.32060201 -2.87135532  2.82244015 -2.45665045 -2.16329548  1.11042311\n",
      " -3.69744289]\n"
     ]
    }
   ],
   "source": [
    "w_sgd, b_sgd, error_sgd=sklearn_sgd(alpha=0.0001, lr_rate_variation='constant',\n",
    "                                    eta0=0.01, n_iter=1000)"
   ]
  },
  {
   "cell_type": "code",
   "execution_count": 15,
   "metadata": {},
   "outputs": [],
   "source": [
    "CurrentRow = [5, 'SGDRegressor', 0.0001, 'constant', 0.01, 0.25, 1000, error_sgd, w_sgd] \n",
    "\n",
    "results.loc[2] = CurrentRow"
   ]
  },
  {
   "cell_type": "markdown",
   "metadata": {},
   "source": [
    "### 4. n_iter=10000, lr_rate=0.01, lr_rate_variation='constant'"
   ]
  },
  {
   "cell_type": "code",
   "execution_count": 16,
   "metadata": {},
   "outputs": [
    {
     "name": "stderr",
     "output_type": "stream",
     "text": [
      "C:\\Users\\keert\\Anaconda3\\lib\\site-packages\\sklearn\\linear_model\\stochastic_gradient.py:117: DeprecationWarning: n_iter parameter is deprecated in 0.19 and will be removed in 0.21. Use max_iter and tol instead.\n",
      "  DeprecationWarning)\n"
     ]
    },
    {
     "data": {
      "image/png": "[encoded data removed]",
      "text/plain": [
       "<Figure size 432x288 with 1 Axes>"
      ]
     },
     "metadata": {},
     "output_type": "display_data"
    },
    {
     "name": "stdout",
     "output_type": "stream",
     "text": [
      "mean sq error= 33.56448850340284\n",
      "number of iteration= 1000\n",
      "Weight = [-1.3489629   1.04756805 -0.43419735  0.10697253 -1.89316055  2.10777227\n",
      " -0.48190115 -2.53801046  2.4973786  -2.64080373 -2.36676139  0.930429\n",
      " -2.90424109]\n"
     ]
    }
   ],
   "source": [
    "w_sgd, b_sgd, error_sgd=sklearn_sgd(alpha=0.0001, lr_rate_variation='constant',\n",
    "                                    eta0=0.01, n_iter=1000)"
   ]
  },
  {
   "cell_type": "code",
   "execution_count": 17,
   "metadata": {},
   "outputs": [],
   "source": [
    "CurrentRow = [7, 'SGDRegressor', 0.0001, 'constant', 0.01, 0.25, 10000, error_sgd, w_sgd] \n",
    "\n",
    "results.loc[3] = CurrentRow"
   ]
  },
  {
   "cell_type": "markdown",
   "metadata": {},
   "source": [
    "### Manual SGD"
   ]
  },
  {
   "cell_type": "code",
   "execution_count": 18,
   "metadata": {},
   "outputs": [],
   "source": [
    "# this function is a simple implementation of sgd to linear regression, here we didn't use any regularization\n",
    "# we need to provide the pandas data with price, initial learning rate , and learning rate variation, number of iteration\n",
    "# here we have implemented constant learning rate and invscaling learning rate\n",
    "# checking the significant difference in loss i.e stopping condition might take lots of time so here we fix the number of loop \n",
    "# this function returns weight (w) and bias (b)\n",
    "# here we have taken sgd with batch size=10\n",
    "def manual_fit(X, lr_rate_variation, alpha=0.0001, lr_rate=0.01, power_t=0.25, n_iter=100):\n",
    "    w_new=np.zeros(shape=(1,13))\n",
    "    b_new=0\n",
    "    t=1\n",
    "    r=lr_rate\n",
    "    \n",
    "    while(t<=n_iter):\n",
    "        w_old=w_new\n",
    "        b_old=b_new\n",
    "        w_=np.zeros(shape=(1,13))\n",
    "        b_=0\n",
    "        x_data=X.sample(10)\n",
    "        x=np.array(x_data.drop('price',axis=1))\n",
    "        y=np.array(x_data['price'])\n",
    "        \n",
    "        \n",
    "        for i in range(10):  # for getting the derivatives using sgd with k=10\n",
    "            y_curr=np.dot(w_old,x[i])+b_old\n",
    "            w_+=x[i] * (y[i] - y_curr)\n",
    "            b_+=(y[i]-y_curr)\n",
    "            \n",
    "            \n",
    "        w_*=(-2/x.shape[0])\n",
    "        b_*=(-2/x.shape[0])\n",
    "        \n",
    "        #updating the parameters\n",
    "        w_new=(w_old-r*w_)\n",
    "        b_new=(b_old-r*b_)\n",
    "        \n",
    "        \n",
    "        if(lr_rate_variation=='invscaling'):\n",
    "            r = lr_rate / pow(t, power_t)\n",
    "        t+=1\n",
    "        \n",
    "        \n",
    "        \n",
    "    return w_new, b_new\n",
    "\n",
    "\n",
    "\n",
    "def pred(x,w, b):\n",
    "    y_pred=[]\n",
    "    for i in range(len(x)):\n",
    "        y=np.asscalar(np.dot(w,x[i])+b)\n",
    "        y_pred.append(y)\n",
    "    return np.array(y_pred)\n",
    "\n",
    "\n",
    "def plot_(X_test,y_pred):\n",
    "    #scatter plot\n",
    "    plt.scatter(y_test,y_pred)\n",
    "    plt.grid(b=True, linewidth=0.3)\n",
    "    plt.title('scatter plot between actual y and predicted y')\n",
    "    plt.xlabel('Actual y')\n",
    "    plt.ylabel('Predicted y')\n",
    "    plt.show()\n",
    "    \n",
    "    \n",
    "    \n",
    "       ## Mean Squared Error\n",
    "    mse_manual=mean_squared_error(y_test,y_pred)\n",
    "    print('error=',mse_manual)\n",
    "    \n",
    "    \n",
    "    return mse_manual"
   ]
  },
  {
   "cell_type": "markdown",
   "metadata": {},
   "source": [
    "### 1. n_iter=1, lr_rate=0.01, lr_rate_variation='constant'"
   ]
  },
  {
   "cell_type": "code",
   "execution_count": 19,
   "metadata": {},
   "outputs": [
    {
     "data": {
      "image/png": "[encoded data removed]",
      "text/plain": [
       "<Figure size 432x288 with 1 Axes>"
      ]
     },
     "metadata": {},
     "output_type": "display_data"
    },
    {
     "name": "stdout",
     "output_type": "stream",
     "text": [
      "error= 573.0282881278649\n",
      "Weights [[-0.14213782  0.10999786 -0.17486103 -0.11851829 -0.18426362  0.04859582\n",
      "  -0.0966473   0.14464764 -0.20222064 -0.26201099 -0.05863657  0.14516687\n",
      "  -0.15593598]]\n"
     ]
    }
   ],
   "source": [
    "w, b=manual_fit(X=manual_train, lr_rate_variation='constant' , n_iter=1)\n",
    "y_pred=pred(X_test, w=w, b=b)\n",
    "manual_error=plot_(X_test,y_pred)\n",
    "print('Weights',w)"
   ]
  },
  {
   "cell_type": "code",
   "execution_count": 20,
   "metadata": {},
   "outputs": [],
   "source": [
    "CurrentRow = [2, 'manual sgd', 0.0001, 'constant', 0.01, 0.25, 1, manual_error, w_sgd] \n",
    "\n",
    "results.loc[4] = CurrentRow"
   ]
  },
  {
   "cell_type": "markdown",
   "metadata": {},
   "source": [
    "### 2. n_iter=100, lr_rate=0.01, lr_rate_variation='constant'"
   ]
  },
  {
   "cell_type": "code",
   "execution_count": 21,
   "metadata": {},
   "outputs": [
    {
     "data": {
      "image/png": "[encoded data removed]",
      "text/plain": [
       "<Figure size 432x288 with 1 Axes>"
      ]
     },
     "metadata": {},
     "output_type": "display_data"
    },
    {
     "name": "stdout",
     "output_type": "stream",
     "text": [
      "error= 39.08021135677297\n",
      "Weights [[-0.87827016  0.81674393 -0.16706871  0.56899826 -0.42805711  3.16172402\n",
      "   0.22060179 -1.04665586  0.55995345 -0.21579031 -1.85160201  0.89881133\n",
      "  -2.81990832]]\n"
     ]
    }
   ],
   "source": [
    "w, b=manual_fit(X=manual_train, lr_rate_variation='constant' , n_iter=100)\n",
    "y_pred=pred(X_test, w=w, b=b)\n",
    "manual_error=plot_(X_test,y_pred)\n",
    "print('Weights',w)"
   ]
  },
  {
   "cell_type": "code",
   "execution_count": 22,
   "metadata": {},
   "outputs": [],
   "source": [
    "CurrentRow = [4, 'manual sgd', 0.0001, 'constant', 0.01, 0.25, 100, manual_error, w_sgd] \n",
    "\n",
    "results.loc[5] = CurrentRow"
   ]
  },
  {
   "cell_type": "markdown",
   "metadata": {},
   "source": [
    "### 3. n_iter=1000, lr_rate=0.01, lr_rate_variation='constant'"
   ]
  },
  {
   "cell_type": "code",
   "execution_count": 23,
   "metadata": {},
   "outputs": [
    {
     "data": {
      "image/png": "[encoded data removed]",
      "text/plain": [
       "<Figure size 432x288 with 1 Axes>"
      ]
     },
     "metadata": {},
     "output_type": "display_data"
    },
    {
     "name": "stdout",
     "output_type": "stream",
     "text": [
      "error= 28.852359454647047\n",
      "Weights [[-1.27645586  0.82447999 -0.05915464  0.13386796 -1.08427894  2.96354307\n",
      "  -0.53848543 -2.6470653   2.15499102 -1.49510664 -1.98144061  1.12578202\n",
      "  -3.06618082]]\n"
     ]
    }
   ],
   "source": [
    "w, b=manual_fit(X=manual_train, lr_rate_variation='constant' , n_iter=1000)\n",
    "y_pred=pred(X_test, w=w, b=b)\n",
    "manual_error=plot_(X_test,y_pred)\n",
    "print('Weights',w)"
   ]
  },
  {
   "cell_type": "code",
   "execution_count": 24,
   "metadata": {},
   "outputs": [],
   "source": [
    "CurrentRow = [6, 'manual sgd', 0.0001, 'constant', 0.01, 0.25, 1000, manual_error, w_sgd] \n",
    "\n",
    "results.loc[6] = CurrentRow"
   ]
  },
  {
   "cell_type": "markdown",
   "metadata": {},
   "source": [
    "### 4. n_iter=10000, lr_rate=0.01, lr_rate_variation='constant'"
   ]
  },
  {
   "cell_type": "code",
   "execution_count": 25,
   "metadata": {},
   "outputs": [
    {
     "data": {
      "image/png": "[encoded data removed]",
      "text/plain": [
       "<Figure size 432x288 with 1 Axes>"
      ]
     },
     "metadata": {},
     "output_type": "display_data"
    },
    {
     "name": "stdout",
     "output_type": "stream",
     "text": [
      "error= 29.56696689069725\n",
      "Weights [[-1.47778124  0.8467222   0.03096247  0.34564092 -1.58733059  2.69256385\n",
      "  -0.49617779 -2.62796527  2.99659672 -2.28541624 -2.12390988  1.25296226\n",
      "  -3.50817314]]\n"
     ]
    }
   ],
   "source": [
    "w, b=manual_fit(X=manual_train, lr_rate_variation='constant' , n_iter=10000)\n",
    "y_pred=pred(X_test, w=w, b=b)\n",
    "manual_error=plot_(X_test,y_pred)\n",
    "print('Weights',w)"
   ]
  },
  {
   "cell_type": "code",
   "execution_count": 26,
   "metadata": {},
   "outputs": [],
   "source": [
    "CurrentRow = [8, 'manual sgd', 0.0001, 'constant', 0.01, 0.25, 10000, manual_error, w_sgd] \n",
    "\n",
    "results.loc[7] = CurrentRow"
   ]
  },
  {
   "cell_type": "code",
   "execution_count": 27,
   "metadata": {},
   "outputs": [
    {
     "data": {
      "text/html": [
       "<div>\n",
       "<style scoped>\n",
       "    .dataframe tbody tr th:only-of-type {\n",
       "        vertical-align: middle;\n",
       "    }\n",
       "\n",
       "    .dataframe tbody tr th {\n",
       "        vertical-align: top;\n",
       "    }\n",
       "\n",
       "    .dataframe thead th {\n",
       "        text-align: right;\n",
       "    }\n",
       "</style>\n",
       "<table border=\"1\" class=\"dataframe\">\n",
       "  <thead>\n",
       "    <tr style=\"text-align: right;\">\n",
       "      <th></th>\n",
       "      <th>S_No</th>\n",
       "      <th>Algorithm</th>\n",
       "      <th>Alpha</th>\n",
       "      <th>LearningRateVariation</th>\n",
       "      <th>Learning Rate</th>\n",
       "      <th>Power_t</th>\n",
       "      <th>No. of Iterations</th>\n",
       "      <th>Mean Squared Error</th>\n",
       "      <th>Weights</th>\n",
       "    </tr>\n",
       "  </thead>\n",
       "  <tbody>\n",
       "    <tr>\n",
       "      <th>0</th>\n",
       "      <td>1</td>\n",
       "      <td>SGDRegressor</td>\n",
       "      <td>0.0001</td>\n",
       "      <td>constant</td>\n",
       "      <td>0.01</td>\n",
       "      <td>0.25</td>\n",
       "      <td>1</td>\n",
       "      <td>29.481510</td>\n",
       "      <td>[-0.9143055718151797, 0.26408520417730996, -0....</td>\n",
       "    </tr>\n",
       "    <tr>\n",
       "      <th>1</th>\n",
       "      <td>3</td>\n",
       "      <td>SGDRegressor</td>\n",
       "      <td>0.0001</td>\n",
       "      <td>constant</td>\n",
       "      <td>0.01</td>\n",
       "      <td>0.25</td>\n",
       "      <td>100</td>\n",
       "      <td>26.958046</td>\n",
       "      <td>[-1.322863648690995, 0.7072676459443368, -0.12...</td>\n",
       "    </tr>\n",
       "    <tr>\n",
       "      <th>2</th>\n",
       "      <td>5</td>\n",
       "      <td>SGDRegressor</td>\n",
       "      <td>0.0001</td>\n",
       "      <td>constant</td>\n",
       "      <td>0.01</td>\n",
       "      <td>0.25</td>\n",
       "      <td>1000</td>\n",
       "      <td>29.044333</td>\n",
       "      <td>[-1.1981069656915326, 0.7135390259322174, -0.1...</td>\n",
       "    </tr>\n",
       "    <tr>\n",
       "      <th>3</th>\n",
       "      <td>7</td>\n",
       "      <td>SGDRegressor</td>\n",
       "      <td>0.0001</td>\n",
       "      <td>constant</td>\n",
       "      <td>0.01</td>\n",
       "      <td>0.25</td>\n",
       "      <td>10000</td>\n",
       "      <td>33.564489</td>\n",
       "      <td>[-1.3489629036744204, 1.047568050568842, -0.43...</td>\n",
       "    </tr>\n",
       "    <tr>\n",
       "      <th>4</th>\n",
       "      <td>2</td>\n",
       "      <td>manual sgd</td>\n",
       "      <td>0.0001</td>\n",
       "      <td>constant</td>\n",
       "      <td>0.01</td>\n",
       "      <td>0.25</td>\n",
       "      <td>1</td>\n",
       "      <td>573.028288</td>\n",
       "      <td>[-1.3489629036744204, 1.047568050568842, -0.43...</td>\n",
       "    </tr>\n",
       "    <tr>\n",
       "      <th>5</th>\n",
       "      <td>4</td>\n",
       "      <td>manual sgd</td>\n",
       "      <td>0.0001</td>\n",
       "      <td>constant</td>\n",
       "      <td>0.01</td>\n",
       "      <td>0.25</td>\n",
       "      <td>100</td>\n",
       "      <td>39.080211</td>\n",
       "      <td>[-1.3489629036744204, 1.047568050568842, -0.43...</td>\n",
       "    </tr>\n",
       "    <tr>\n",
       "      <th>6</th>\n",
       "      <td>6</td>\n",
       "      <td>manual sgd</td>\n",
       "      <td>0.0001</td>\n",
       "      <td>constant</td>\n",
       "      <td>0.01</td>\n",
       "      <td>0.25</td>\n",
       "      <td>1000</td>\n",
       "      <td>28.852359</td>\n",
       "      <td>[-1.3489629036744204, 1.047568050568842, -0.43...</td>\n",
       "    </tr>\n",
       "    <tr>\n",
       "      <th>7</th>\n",
       "      <td>8</td>\n",
       "      <td>manual sgd</td>\n",
       "      <td>0.0001</td>\n",
       "      <td>constant</td>\n",
       "      <td>0.01</td>\n",
       "      <td>0.25</td>\n",
       "      <td>10000</td>\n",
       "      <td>29.566967</td>\n",
       "      <td>[-1.3489629036744204, 1.047568050568842, -0.43...</td>\n",
       "    </tr>\n",
       "  </tbody>\n",
       "</table>\n",
       "</div>"
      ],
      "text/plain": [
       "  S_No     Algorithm   Alpha LearningRateVariation  Learning Rate  Power_t  \\\n",
       "0    1  SGDRegressor  0.0001              constant           0.01     0.25   \n",
       "1    3  SGDRegressor  0.0001              constant           0.01     0.25   \n",
       "2    5  SGDRegressor  0.0001              constant           0.01     0.25   \n",
       "3    7  SGDRegressor  0.0001              constant           0.01     0.25   \n",
       "4    2    manual sgd  0.0001              constant           0.01     0.25   \n",
       "5    4    manual sgd  0.0001              constant           0.01     0.25   \n",
       "6    6    manual sgd  0.0001              constant           0.01     0.25   \n",
       "7    8    manual sgd  0.0001              constant           0.01     0.25   \n",
       "\n",
       "  No. of Iterations  Mean Squared Error  \\\n",
       "0                 1           29.481510   \n",
       "1               100           26.958046   \n",
       "2              1000           29.044333   \n",
       "3             10000           33.564489   \n",
       "4                 1          573.028288   \n",
       "5               100           39.080211   \n",
       "6              1000           28.852359   \n",
       "7             10000           29.566967   \n",
       "\n",
       "                                             Weights  \n",
       "0  [-0.9143055718151797, 0.26408520417730996, -0....  \n",
       "1  [-1.322863648690995, 0.7072676459443368, -0.12...  \n",
       "2  [-1.1981069656915326, 0.7135390259322174, -0.1...  \n",
       "3  [-1.3489629036744204, 1.047568050568842, -0.43...  \n",
       "4  [-1.3489629036744204, 1.047568050568842, -0.43...  \n",
       "5  [-1.3489629036744204, 1.047568050568842, -0.43...  \n",
       "6  [-1.3489629036744204, 1.047568050568842, -0.43...  \n",
       "7  [-1.3489629036744204, 1.047568050568842, -0.43...  "
      ]
     },
     "execution_count": 27,
     "metadata": {},
     "output_type": "execute_result"
    }
   ],
   "source": [
    "results"
   ]
  },
  {
   "cell_type": "markdown",
   "metadata": {},
   "source": [
    "### B) Using Learning Rate=0.01 , Learning rate variation='invscaling' and changing the n_iter"
   ]
  },
  {
   "cell_type": "markdown",
   "metadata": {},
   "source": [
    "### SGD Regressor"
   ]
  },
  {
   "cell_type": "markdown",
   "metadata": {},
   "source": [
    "### 1. n_iter=1, lr_rate=0.01, lr_rate_variation='invscaling'"
   ]
  },
  {
   "cell_type": "code",
   "execution_count": 28,
   "metadata": {},
   "outputs": [
    {
     "name": "stderr",
     "output_type": "stream",
     "text": [
      "C:\\Users\\keert\\Anaconda3\\lib\\site-packages\\sklearn\\linear_model\\stochastic_gradient.py:117: DeprecationWarning: n_iter parameter is deprecated in 0.19 and will be removed in 0.21. Use max_iter and tol instead.\n",
      "  DeprecationWarning)\n"
     ]
    },
    {
     "data": {
      "image/png": "[encoded data removed]",
      "text/plain": [
       "<Figure size 432x288 with 1 Axes>"
      ]
     },
     "metadata": {},
     "output_type": "display_data"
    },
    {
     "name": "stdout",
     "output_type": "stream",
     "text": [
      "mean sq error= 100.83395469884502\n",
      "number of iteration= 1\n",
      "Weight = [-0.90196227  0.2561243  -0.67946437  0.51610788 -0.46647093  2.66755782\n",
      " -0.44917147 -0.62204958 -0.08129227 -0.54379675 -1.68472578  0.6797482\n",
      " -2.25616864]\n"
     ]
    }
   ],
   "source": [
    "w_sgd, b_sgd, error_sgd=sklearn_sgd(alpha=0.0001, lr_rate_variation='invscaling',\n",
    "                                    eta0=0.01, n_iter=1)"
   ]
  },
  {
   "cell_type": "code",
   "execution_count": 29,
   "metadata": {},
   "outputs": [],
   "source": [
    "CurrentRow = [9, 'SGDRegressor', 0.0001, 'invscaling', 0.01, 0.25, 1, error_sgd, w_sgd] \n",
    "\n",
    "results.loc[8] = CurrentRow"
   ]
  },
  {
   "cell_type": "markdown",
   "metadata": {},
   "source": [
    "### 2. n_iter=100, lr_rate=0.01, lr_rate_variation='invscaling'"
   ]
  },
  {
   "cell_type": "code",
   "execution_count": 30,
   "metadata": {},
   "outputs": [
    {
     "name": "stderr",
     "output_type": "stream",
     "text": [
      "C:\\Users\\keert\\Anaconda3\\lib\\site-packages\\sklearn\\linear_model\\stochastic_gradient.py:117: DeprecationWarning: n_iter parameter is deprecated in 0.19 and will be removed in 0.21. Use max_iter and tol instead.\n",
      "  DeprecationWarning)\n"
     ]
    },
    {
     "data": {
      "image/png": "[encoded data removed]",
      "text/plain": [
       "<Figure size 432x288 with 1 Axes>"
      ]
     },
     "metadata": {},
     "output_type": "display_data"
    },
    {
     "name": "stdout",
     "output_type": "stream",
     "text": [
      "mean sq error= 28.54040929800437\n",
      "number of iteration= 100\n",
      "Weight = [-1.29569851  0.84097656 -0.2743541   0.20745838 -1.48542625  2.81108292\n",
      " -0.35496792 -2.79070341  2.63896432 -1.91173247 -2.12906002  1.05656176\n",
      " -3.33475405]\n"
     ]
    }
   ],
   "source": [
    "w_sgd, b_sgd, error_sgd=sklearn_sgd(alpha=0.0001, lr_rate_variation='invscaling',\n",
    "                                    eta0=0.01, n_iter=100)"
   ]
  },
  {
   "cell_type": "code",
   "execution_count": 31,
   "metadata": {},
   "outputs": [],
   "source": [
    "CurrentRow = [11, 'SGDRegressor', 0.0001, 'invscaling', 0.01, 0.25, 100, error_sgd, w_sgd] \n",
    "\n",
    "results.loc[9] = CurrentRow"
   ]
  },
  {
   "cell_type": "markdown",
   "metadata": {},
   "source": [
    "### 3. n_iter=1000, lr_rate=0.01, lr_rate_variation='invscaling'"
   ]
  },
  {
   "cell_type": "code",
   "execution_count": 32,
   "metadata": {},
   "outputs": [
    {
     "name": "stderr",
     "output_type": "stream",
     "text": [
      "C:\\Users\\keert\\Anaconda3\\lib\\site-packages\\sklearn\\linear_model\\stochastic_gradient.py:117: DeprecationWarning: n_iter parameter is deprecated in 0.19 and will be removed in 0.21. Use max_iter and tol instead.\n",
      "  DeprecationWarning)\n"
     ]
    },
    {
     "data": {
      "image/png": "[encoded data removed]",
      "text/plain": [
       "<Figure size 432x288 with 1 Axes>"
      ]
     },
     "metadata": {},
     "output_type": "display_data"
    },
    {
     "name": "stdout",
     "output_type": "stream",
     "text": [
      "mean sq error= 28.65362316262727\n",
      "number of iteration= 1000\n",
      "Weight = [-1.31836267  0.87201796 -0.17667627  0.18924573 -1.4985606   2.79186633\n",
      " -0.33601483 -2.76074972  2.96899959 -2.28315697 -2.13735114  1.06530664\n",
      " -3.34407434]\n"
     ]
    }
   ],
   "source": [
    "w_sgd, b_sgd, error_sgd=sklearn_sgd(alpha=0.0001, lr_rate_variation='invscaling',\n",
    "                                    eta0=0.01, n_iter=1000)"
   ]
  },
  {
   "cell_type": "code",
   "execution_count": 33,
   "metadata": {},
   "outputs": [],
   "source": [
    "CurrentRow = [13, 'SGDRegressor', 0.0001, 'invscaling', 0.01, 0.25, 1000, error_sgd, w_sgd] \n",
    "\n",
    "results.loc[10] = CurrentRow"
   ]
  },
  {
   "cell_type": "markdown",
   "metadata": {},
   "source": [
    "### 4. n_iter=10000, lr_rate=0.01, lr_rate_variation='invscaling'"
   ]
  },
  {
   "cell_type": "code",
   "execution_count": 34,
   "metadata": {},
   "outputs": [
    {
     "name": "stderr",
     "output_type": "stream",
     "text": [
      "C:\\Users\\keert\\Anaconda3\\lib\\site-packages\\sklearn\\linear_model\\stochastic_gradient.py:117: DeprecationWarning: n_iter parameter is deprecated in 0.19 and will be removed in 0.21. Use max_iter and tol instead.\n",
      "  DeprecationWarning)\n"
     ]
    },
    {
     "data": {
      "image/png": "[encoded data removed]",
      "text/plain": [
       "<Figure size 432x288 with 1 Axes>"
      ]
     },
     "metadata": {},
     "output_type": "display_data"
    },
    {
     "name": "stdout",
     "output_type": "stream",
     "text": [
      "mean sq error= 28.53520992749999\n",
      "number of iteration= 10000\n",
      "Weight = [-1.31265412  0.86198006 -0.16668055  0.18882293 -1.4881431   2.78838688\n",
      " -0.32532855 -2.77249143  2.97717228 -2.27260931 -2.13286412  1.05705312\n",
      " -3.33465165]\n"
     ]
    }
   ],
   "source": [
    "w_sgd, b_sgd, error_sgd=sklearn_sgd(alpha=0.0001, lr_rate_variation='invscaling',\n",
    "                                    eta0=0.01, n_iter=10000)"
   ]
  },
  {
   "cell_type": "code",
   "execution_count": 35,
   "metadata": {},
   "outputs": [],
   "source": [
    "CurrentRow = [15, 'SGDRegressor', 0.0001, 'invscaling', 0.01, 0.25, 10000, error_sgd, w_sgd] \n",
    "\n",
    "results.loc[11] = CurrentRow"
   ]
  },
  {
   "cell_type": "markdown",
   "metadata": {},
   "source": [
    "### Manual SGD"
   ]
  },
  {
   "cell_type": "markdown",
   "metadata": {},
   "source": [
    "### 1. n_iter=1, lr_rate=0.01, lr_rate_variation='invscaling'"
   ]
  },
  {
   "cell_type": "code",
   "execution_count": 36,
   "metadata": {},
   "outputs": [
    {
     "data": {
      "image/png": "[encoded data removed]",
      "text/plain": [
       "<Figure size 432x288 with 1 Axes>"
      ]
     },
     "metadata": {},
     "output_type": "display_data"
    },
    {
     "name": "stdout",
     "output_type": "stream",
     "text": [
      "error= 567.7262255075298\n",
      "Weights [[-0.1588807   0.16548894 -0.26940872 -0.12859183 -0.19169067  0.24775931\n",
      "  -0.18101753  0.1672872  -0.15435236 -0.14795246 -0.07459212  0.16365762\n",
      "  -0.27226597]]\n"
     ]
    }
   ],
   "source": [
    "w, b=manual_fit(X=manual_train, lr_rate_variation='invscaling' , n_iter=1)\n",
    "y_pred=pred(X_test, w=w, b=b)\n",
    "manual_error=plot_(X_test,y_pred)\n",
    "print('Weights',w)"
   ]
  },
  {
   "cell_type": "code",
   "execution_count": 37,
   "metadata": {},
   "outputs": [],
   "source": [
    "CurrentRow = [10, 'manual sgd', 0.0001, 'invscaling', 0.01, 0.25, 1, manual_error, w_sgd] \n",
    "\n",
    "results.loc[12] = CurrentRow"
   ]
  },
  {
   "cell_type": "markdown",
   "metadata": {},
   "source": [
    "### 2. n_iter=100, lr_rate=0.01, lr_rate_variation='invscaling'"
   ]
  },
  {
   "cell_type": "code",
   "execution_count": 38,
   "metadata": {},
   "outputs": [
    {
     "data": {
      "image/png": "[encoded data removed]",
      "text/plain": [
       "<Figure size 432x288 with 1 Axes>"
      ]
     },
     "metadata": {},
     "output_type": "display_data"
    },
    {
     "name": "stdout",
     "output_type": "stream",
     "text": [
      "error= 135.80549402365295\n",
      "Weights [[-0.44715175  0.25545932 -0.55707982 -0.06878681 -0.34135437  2.4730373\n",
      "  -0.60595658 -0.84764449 -0.00960143 -0.41429446 -1.70163063  0.75504323\n",
      "  -2.06458481]]\n"
     ]
    }
   ],
   "source": [
    "w, b=manual_fit(X=manual_train, lr_rate_variation='invscaling' , n_iter=100)\n",
    "y_pred=pred(X_test, w=w, b=b)\n",
    "manual_error=plot_(X_test,y_pred)\n",
    "print('Weights',w)"
   ]
  },
  {
   "cell_type": "code",
   "execution_count": 39,
   "metadata": {},
   "outputs": [],
   "source": [
    "CurrentRow = [12, 'manual sgd', 0.0001, 'invscaling', 0.01, 0.25, 100, manual_error, w_sgd] \n",
    "\n",
    "results.loc[13] = CurrentRow"
   ]
  },
  {
   "cell_type": "markdown",
   "metadata": {},
   "source": [
    "### 3. n_iter=1000, lr_rate=0.01, lr_rate_variation='invscaling'"
   ]
  },
  {
   "cell_type": "code",
   "execution_count": 40,
   "metadata": {},
   "outputs": [
    {
     "data": {
      "image/png": "[encoded data removed]",
      "text/plain": [
       "<Figure size 432x288 with 1 Axes>"
      ]
     },
     "metadata": {},
     "output_type": "display_data"
    },
    {
     "name": "stdout",
     "output_type": "stream",
     "text": [
      "error= 30.319088565397507\n",
      "Weights [[-1.04734323  0.26591553 -0.45643034  0.20531643 -0.62287612  3.18064897\n",
      "  -0.62334499 -1.83274805  0.91784911 -0.41279811 -2.09545499  0.96290067\n",
      "  -2.99137575]]\n"
     ]
    }
   ],
   "source": [
    "w, b=manual_fit(X=manual_train, lr_rate_variation='invscaling' , n_iter=1000)\n",
    "y_pred=pred(X_test, w=w, b=b)\n",
    "manual_error=plot_(X_test,y_pred)\n",
    "print('Weights',w)"
   ]
  },
  {
   "cell_type": "code",
   "execution_count": 41,
   "metadata": {},
   "outputs": [],
   "source": [
    "CurrentRow = [14, 'manual sgd', 0.0001, 'invscaling', 0.01, 0.25, 1000, manual_error, w_sgd] \n",
    "\n",
    "results.loc[14] = CurrentRow"
   ]
  },
  {
   "cell_type": "markdown",
   "metadata": {},
   "source": [
    "### 4. n_iter=10000, lr_rate=0.01, lr_rate_variation='invscaling'"
   ]
  },
  {
   "cell_type": "code",
   "execution_count": 42,
   "metadata": {},
   "outputs": [
    {
     "data": {
      "image/png": "[encoded data removed]",
      "text/plain": [
       "<Figure size 432x288 with 1 Axes>"
      ]
     },
     "metadata": {},
     "output_type": "display_data"
    },
    {
     "name": "stdout",
     "output_type": "stream",
     "text": [
      "error= 28.336266651641758\n",
      "Weights [[-1.27298693  0.86482967 -0.3709973   0.2684559  -1.51667997  2.72368791\n",
      "  -0.33070765 -2.84616118  2.37748427 -1.67794415 -2.08404731  1.05168615\n",
      "  -3.29848774]]\n"
     ]
    }
   ],
   "source": [
    "w, b=manual_fit(X=manual_train, lr_rate_variation='invscaling' , n_iter=10000)\n",
    "y_pred=pred(X_test, w=w, b=b)\n",
    "manual_error=plot_(X_test,y_pred)\n",
    "print('Weights',w)"
   ]
  },
  {
   "cell_type": "code",
   "execution_count": 43,
   "metadata": {},
   "outputs": [],
   "source": [
    "CurrentRow = [16, 'manual sgd', 0.0001, 'invscaling', 0.01, 0.25, 10000, manual_error, w_sgd] \n",
    "\n",
    "results.loc[15] = CurrentRow"
   ]
  },
  {
   "cell_type": "code",
   "execution_count": 44,
   "metadata": {},
   "outputs": [
    {
     "data": {
      "text/html": [
       "<div>\n",
       "<style scoped>\n",
       "    .dataframe tbody tr th:only-of-type {\n",
       "        vertical-align: middle;\n",
       "    }\n",
       "\n",
       "    .dataframe tbody tr th {\n",
       "        vertical-align: top;\n",
       "    }\n",
       "\n",
       "    .dataframe thead th {\n",
       "        text-align: right;\n",
       "    }\n",
       "</style>\n",
       "<table border=\"1\" class=\"dataframe\">\n",
       "  <thead>\n",
       "    <tr style=\"text-align: right;\">\n",
       "      <th></th>\n",
       "      <th>S_No</th>\n",
       "      <th>Algorithm</th>\n",
       "      <th>Alpha</th>\n",
       "      <th>LearningRateVariation</th>\n",
       "      <th>Learning Rate</th>\n",
       "      <th>Power_t</th>\n",
       "      <th>No. of Iterations</th>\n",
       "      <th>Mean Squared Error</th>\n",
       "      <th>Weights</th>\n",
       "    </tr>\n",
       "  </thead>\n",
       "  <tbody>\n",
       "    <tr>\n",
       "      <th>0</th>\n",
       "      <td>1</td>\n",
       "      <td>SGDRegressor</td>\n",
       "      <td>0.0001</td>\n",
       "      <td>constant</td>\n",
       "      <td>0.01</td>\n",
       "      <td>0.25</td>\n",
       "      <td>1</td>\n",
       "      <td>29.481510</td>\n",
       "      <td>[-0.9143055718151797, 0.26408520417730996, -0....</td>\n",
       "    </tr>\n",
       "    <tr>\n",
       "      <th>1</th>\n",
       "      <td>3</td>\n",
       "      <td>SGDRegressor</td>\n",
       "      <td>0.0001</td>\n",
       "      <td>constant</td>\n",
       "      <td>0.01</td>\n",
       "      <td>0.25</td>\n",
       "      <td>100</td>\n",
       "      <td>26.958046</td>\n",
       "      <td>[-1.322863648690995, 0.7072676459443368, -0.12...</td>\n",
       "    </tr>\n",
       "    <tr>\n",
       "      <th>2</th>\n",
       "      <td>5</td>\n",
       "      <td>SGDRegressor</td>\n",
       "      <td>0.0001</td>\n",
       "      <td>constant</td>\n",
       "      <td>0.01</td>\n",
       "      <td>0.25</td>\n",
       "      <td>1000</td>\n",
       "      <td>29.044333</td>\n",
       "      <td>[-1.1981069656915326, 0.7135390259322174, -0.1...</td>\n",
       "    </tr>\n",
       "    <tr>\n",
       "      <th>3</th>\n",
       "      <td>7</td>\n",
       "      <td>SGDRegressor</td>\n",
       "      <td>0.0001</td>\n",
       "      <td>constant</td>\n",
       "      <td>0.01</td>\n",
       "      <td>0.25</td>\n",
       "      <td>10000</td>\n",
       "      <td>33.564489</td>\n",
       "      <td>[-1.3489629036744204, 1.047568050568842, -0.43...</td>\n",
       "    </tr>\n",
       "    <tr>\n",
       "      <th>4</th>\n",
       "      <td>2</td>\n",
       "      <td>manual sgd</td>\n",
       "      <td>0.0001</td>\n",
       "      <td>constant</td>\n",
       "      <td>0.01</td>\n",
       "      <td>0.25</td>\n",
       "      <td>1</td>\n",
       "      <td>573.028288</td>\n",
       "      <td>[-1.3489629036744204, 1.047568050568842, -0.43...</td>\n",
       "    </tr>\n",
       "    <tr>\n",
       "      <th>5</th>\n",
       "      <td>4</td>\n",
       "      <td>manual sgd</td>\n",
       "      <td>0.0001</td>\n",
       "      <td>constant</td>\n",
       "      <td>0.01</td>\n",
       "      <td>0.25</td>\n",
       "      <td>100</td>\n",
       "      <td>39.080211</td>\n",
       "      <td>[-1.3489629036744204, 1.047568050568842, -0.43...</td>\n",
       "    </tr>\n",
       "    <tr>\n",
       "      <th>6</th>\n",
       "      <td>6</td>\n",
       "      <td>manual sgd</td>\n",
       "      <td>0.0001</td>\n",
       "      <td>constant</td>\n",
       "      <td>0.01</td>\n",
       "      <td>0.25</td>\n",
       "      <td>1000</td>\n",
       "      <td>28.852359</td>\n",
       "      <td>[-1.3489629036744204, 1.047568050568842, -0.43...</td>\n",
       "    </tr>\n",
       "    <tr>\n",
       "      <th>7</th>\n",
       "      <td>8</td>\n",
       "      <td>manual sgd</td>\n",
       "      <td>0.0001</td>\n",
       "      <td>constant</td>\n",
       "      <td>0.01</td>\n",
       "      <td>0.25</td>\n",
       "      <td>10000</td>\n",
       "      <td>29.566967</td>\n",
       "      <td>[-1.3489629036744204, 1.047568050568842, -0.43...</td>\n",
       "    </tr>\n",
       "    <tr>\n",
       "      <th>8</th>\n",
       "      <td>9</td>\n",
       "      <td>SGDRegressor</td>\n",
       "      <td>0.0001</td>\n",
       "      <td>invscaling</td>\n",
       "      <td>0.01</td>\n",
       "      <td>0.25</td>\n",
       "      <td>1</td>\n",
       "      <td>100.833955</td>\n",
       "      <td>[-0.9019622701315364, 0.25612430365915334, -0....</td>\n",
       "    </tr>\n",
       "    <tr>\n",
       "      <th>9</th>\n",
       "      <td>11</td>\n",
       "      <td>SGDRegressor</td>\n",
       "      <td>0.0001</td>\n",
       "      <td>invscaling</td>\n",
       "      <td>0.01</td>\n",
       "      <td>0.25</td>\n",
       "      <td>100</td>\n",
       "      <td>28.540409</td>\n",
       "      <td>[-1.2956985109460581, 0.8409765568685529, -0.2...</td>\n",
       "    </tr>\n",
       "    <tr>\n",
       "      <th>10</th>\n",
       "      <td>13</td>\n",
       "      <td>SGDRegressor</td>\n",
       "      <td>0.0001</td>\n",
       "      <td>invscaling</td>\n",
       "      <td>0.01</td>\n",
       "      <td>0.25</td>\n",
       "      <td>1000</td>\n",
       "      <td>28.653623</td>\n",
       "      <td>[-1.318362668672458, 0.8720179644031593, -0.17...</td>\n",
       "    </tr>\n",
       "    <tr>\n",
       "      <th>11</th>\n",
       "      <td>15</td>\n",
       "      <td>SGDRegressor</td>\n",
       "      <td>0.0001</td>\n",
       "      <td>invscaling</td>\n",
       "      <td>0.01</td>\n",
       "      <td>0.25</td>\n",
       "      <td>10000</td>\n",
       "      <td>28.535210</td>\n",
       "      <td>[-1.3126541221216719, 0.861980056130434, -0.16...</td>\n",
       "    </tr>\n",
       "    <tr>\n",
       "      <th>12</th>\n",
       "      <td>10</td>\n",
       "      <td>manual sgd</td>\n",
       "      <td>0.0001</td>\n",
       "      <td>invscaling</td>\n",
       "      <td>0.01</td>\n",
       "      <td>0.25</td>\n",
       "      <td>1</td>\n",
       "      <td>567.726226</td>\n",
       "      <td>[-1.3126541221216719, 0.861980056130434, -0.16...</td>\n",
       "    </tr>\n",
       "    <tr>\n",
       "      <th>13</th>\n",
       "      <td>12</td>\n",
       "      <td>manual sgd</td>\n",
       "      <td>0.0001</td>\n",
       "      <td>invscaling</td>\n",
       "      <td>0.01</td>\n",
       "      <td>0.25</td>\n",
       "      <td>100</td>\n",
       "      <td>135.805494</td>\n",
       "      <td>[-1.3126541221216719, 0.861980056130434, -0.16...</td>\n",
       "    </tr>\n",
       "    <tr>\n",
       "      <th>14</th>\n",
       "      <td>14</td>\n",
       "      <td>manual sgd</td>\n",
       "      <td>0.0001</td>\n",
       "      <td>invscaling</td>\n",
       "      <td>0.01</td>\n",
       "      <td>0.25</td>\n",
       "      <td>1000</td>\n",
       "      <td>30.319089</td>\n",
       "      <td>[-1.3126541221216719, 0.861980056130434, -0.16...</td>\n",
       "    </tr>\n",
       "    <tr>\n",
       "      <th>15</th>\n",
       "      <td>16</td>\n",
       "      <td>manual sgd</td>\n",
       "      <td>0.0001</td>\n",
       "      <td>invscaling</td>\n",
       "      <td>0.01</td>\n",
       "      <td>0.25</td>\n",
       "      <td>10000</td>\n",
       "      <td>28.336267</td>\n",
       "      <td>[-1.3126541221216719, 0.861980056130434, -0.16...</td>\n",
       "    </tr>\n",
       "  </tbody>\n",
       "</table>\n",
       "</div>"
      ],
      "text/plain": [
       "   S_No     Algorithm   Alpha LearningRateVariation  Learning Rate  Power_t  \\\n",
       "0     1  SGDRegressor  0.0001              constant           0.01     0.25   \n",
       "1     3  SGDRegressor  0.0001              constant           0.01     0.25   \n",
       "2     5  SGDRegressor  0.0001              constant           0.01     0.25   \n",
       "3     7  SGDRegressor  0.0001              constant           0.01     0.25   \n",
       "4     2    manual sgd  0.0001              constant           0.01     0.25   \n",
       "5     4    manual sgd  0.0001              constant           0.01     0.25   \n",
       "6     6    manual sgd  0.0001              constant           0.01     0.25   \n",
       "7     8    manual sgd  0.0001              constant           0.01     0.25   \n",
       "8     9  SGDRegressor  0.0001            invscaling           0.01     0.25   \n",
       "9    11  SGDRegressor  0.0001            invscaling           0.01     0.25   \n",
       "10   13  SGDRegressor  0.0001            invscaling           0.01     0.25   \n",
       "11   15  SGDRegressor  0.0001            invscaling           0.01     0.25   \n",
       "12   10    manual sgd  0.0001            invscaling           0.01     0.25   \n",
       "13   12    manual sgd  0.0001            invscaling           0.01     0.25   \n",
       "14   14    manual sgd  0.0001            invscaling           0.01     0.25   \n",
       "15   16    manual sgd  0.0001            invscaling           0.01     0.25   \n",
       "\n",
       "   No. of Iterations  Mean Squared Error  \\\n",
       "0                  1           29.481510   \n",
       "1                100           26.958046   \n",
       "2               1000           29.044333   \n",
       "3              10000           33.564489   \n",
       "4                  1          573.028288   \n",
       "5                100           39.080211   \n",
       "6               1000           28.852359   \n",
       "7              10000           29.566967   \n",
       "8                  1          100.833955   \n",
       "9                100           28.540409   \n",
       "10              1000           28.653623   \n",
       "11             10000           28.535210   \n",
       "12                 1          567.726226   \n",
       "13               100          135.805494   \n",
       "14              1000           30.319089   \n",
       "15             10000           28.336267   \n",
       "\n",
       "                                              Weights  \n",
       "0   [-0.9143055718151797, 0.26408520417730996, -0....  \n",
       "1   [-1.322863648690995, 0.7072676459443368, -0.12...  \n",
       "2   [-1.1981069656915326, 0.7135390259322174, -0.1...  \n",
       "3   [-1.3489629036744204, 1.047568050568842, -0.43...  \n",
       "4   [-1.3489629036744204, 1.047568050568842, -0.43...  \n",
       "5   [-1.3489629036744204, 1.047568050568842, -0.43...  \n",
       "6   [-1.3489629036744204, 1.047568050568842, -0.43...  \n",
       "7   [-1.3489629036744204, 1.047568050568842, -0.43...  \n",
       "8   [-0.9019622701315364, 0.25612430365915334, -0....  \n",
       "9   [-1.2956985109460581, 0.8409765568685529, -0.2...  \n",
       "10  [-1.318362668672458, 0.8720179644031593, -0.17...  \n",
       "11  [-1.3126541221216719, 0.861980056130434, -0.16...  \n",
       "12  [-1.3126541221216719, 0.861980056130434, -0.16...  \n",
       "13  [-1.3126541221216719, 0.861980056130434, -0.16...  \n",
       "14  [-1.3126541221216719, 0.861980056130434, -0.16...  \n",
       "15  [-1.3126541221216719, 0.861980056130434, -0.16...  "
      ]
     },
     "execution_count": 44,
     "metadata": {},
     "output_type": "execute_result"
    }
   ],
   "source": [
    "results"
   ]
  },
  {
   "cell_type": "markdown",
   "metadata": {},
   "source": [
    "### Conclusion\n",
    "   - For SGDRegressor with constant learning rate variation MSE did not change much with increase in iterations\n",
    "   - For SGDRegressor with invscaling learning rate variation MSE changed with increase in iterations and majority change is seen when iteration changed from 1 to 100\n",
    "   - The above point is valid for Manual SGD Regressor\n",
    "   - Among all the MSE variation is seen in manual SGD Regressor at iteration 1 and 100"
   ]
  },
  {
   "cell_type": "code",
   "execution_count": null,
   "metadata": {},
   "outputs": [],
   "source": []
  }
 ],
 "metadata": {
  "kernelspec": {
   "display_name": "Python 3",
   "language": "python",
   "name": "python3"
  },
  "language_info": {
   "codemirror_mode": {
    "name": "ipython",
    "version": 3
   },
   "file_extension": ".py",
   "mimetype": "text/x-python",
   "name": "python",
   "nbconvert_exporter": "python",
   "pygments_lexer": "ipython3",
   "version": "3.6.9"
  }
 },
 "nbformat": 4,
 "nbformat_minor": 2
}
