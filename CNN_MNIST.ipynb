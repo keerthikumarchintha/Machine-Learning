{
 "cells": [
  {
   "cell_type": "markdown",
   "metadata": {},
   "source": [
    "### Applying three different CNN's on the MNIST dataset"
   ]
  },
  {
   "cell_type": "code",
   "execution_count": 1,
   "metadata": {},
   "outputs": [
    {
     "name": "stderr",
     "output_type": "stream",
     "text": [
      "Using TensorFlow backend.\n"
     ]
    },
    {
     "name": "stdout",
     "output_type": "stream",
     "text": [
      "x_train shape: (60000, 28, 28, 1)\n",
      "60000 train samples\n",
      "10000 test samples\n"
     ]
    }
   ],
   "source": [
    "# Credits: https://github.com/keras-team/keras/blob/master/examples/mnist_cnn.py\n",
    "#Refer this link for making better CNN networks\n",
    "#https://towardsdatascience.com/a-guide-to-an-efficient-way-to-build-neural-network-architecturespart-ii-hyper-parameter-42efca01e5d7\n",
    "import warnings\n",
    "warnings.filterwarnings(\"ignore\")\n",
    "#from __future__ import print_function\n",
    "exec('from __future__ import absolute_import, division, print_function')\n",
    "import keras\n",
    "from keras.datasets import mnist\n",
    "from keras.models import Sequential\n",
    "from keras.layers import Dense, Dropout, Flatten\n",
    "from keras.layers import Conv2D, MaxPooling2D\n",
    "from keras import backend as K\n",
    "batch_size = 128\n",
    "num_classes = 10\n",
    "epochs = 12\n",
    "# Preparing trainining and testing data\n",
    "# input image dimensions\n",
    "img_rows, img_cols = 28, 28\n",
    "# the data, split between train and test sets\n",
    "(x_train, y_train), (x_test, y_test) = mnist.load_data()\n",
    "#print(x_train.shape)\n",
    "if K.image_data_format() == 'channels_first':\n",
    "    x_train = x_train.reshape(x_train.shape[0], 1, img_rows, img_cols)\n",
    "    x_test = x_test.reshape(x_test.shape[0], 1, img_rows, img_cols)\n",
    "    input_shape = (1, img_rows, img_cols)\n",
    "else:\n",
    "    x_train = x_train.reshape(x_train.shape[0], img_rows, img_cols, 1)\n",
    "    x_test = x_test.reshape(x_test.shape[0], img_rows, img_cols, 1)\n",
    "    input_shape = (img_rows, img_cols, 1)\n",
    "x_train = x_train.astype('float32')\n",
    "x_test = x_test.astype('float32')\n",
    "x_train /= 255\n",
    "x_test /= 255\n",
    "print('x_train shape:', x_train.shape)\n",
    "print(x_train.shape[0], 'train samples')\n",
    "print(x_test.shape[0], 'test samples')\n",
    "# convert class vectors to binary class matrices\n",
    "y_train = keras.utils.to_categorical(y_train, num_classes)\n",
    "y_test = keras.utils.to_categorical(y_test, num_classes)"
   ]
  },
  {
   "cell_type": "code",
   "execution_count": 2,
   "metadata": {},
   "outputs": [],
   "source": [
    "%matplotlib notebook\n",
    "%matplotlib inline\n",
    "import matplotlib.pyplot as plt\n",
    "import numpy as np\n",
    "import time\n",
    "# https://gist.github.com/greydanus/f6eee59eaf1d90fcb3b534a25362cea4\n",
    "# https://stackoverflow.com/a/14434334 # this function is used to update the plots for each epoch and error\n",
    "def plt_dynamic(x, vy, ty, ax, colors=['b']):\n",
    "    ax.plot(x, vy, 'b', label=\"Validation Loss\")\n",
    "    ax.plot(x, ty, 'r', label=\"Train Loss\")\n",
    "    plt.legend()\n",
    "    plt.grid()\n",
    "    fig.canvas.draw()\n"
   ]
  },
  {
   "cell_type": "markdown",
   "metadata": {},
   "source": [
    "### Model 1; 2 conv, 2 maxpool, 3 dense layers"
   ]
  },
  {
   "cell_type": "code",
   "execution_count": 3,
   "metadata": {},
   "outputs": [
    {
     "name": "stdout",
     "output_type": "stream",
     "text": [
      "WARNING:tensorflow:From C:\\Users\\keert\\Anaconda3\\lib\\site-packages\\tensorflow\\python\\framework\\op_def_library.py:263: colocate_with (from tensorflow.python.framework.ops) is deprecated and will be removed in a future version.\n",
      "Instructions for updating:\n",
      "Colocations handled automatically by placer.\n",
      "_________________________________________________________________\n",
      "Layer (type)                 Output Shape              Param #   \n",
      "=================================================================\n",
      "conv2d_1 (Conv2D)            (None, 28, 28, 6)         60        \n",
      "_________________________________________________________________\n",
      "max_pooling2d_1 (MaxPooling2 (None, 14, 14, 6)         0         \n",
      "_________________________________________________________________\n",
      "conv2d_2 (Conv2D)            (None, 10, 10, 25)        3775      \n",
      "_________________________________________________________________\n",
      "max_pooling2d_2 (MaxPooling2 (None, 5, 5, 25)          0         \n",
      "_________________________________________________________________\n",
      "flatten_1 (Flatten)          (None, 625)               0         \n",
      "_________________________________________________________________\n",
      "dense_1 (Dense)              (None, 120)               75120     \n",
      "_________________________________________________________________\n",
      "dense_2 (Dense)              (None, 84)                10164     \n",
      "_________________________________________________________________\n",
      "dense_3 (Dense)              (None, 10)                850       \n",
      "=================================================================\n",
      "Total params: 89,969\n",
      "Trainable params: 89,969\n",
      "Non-trainable params: 0\n",
      "_________________________________________________________________\n",
      "WARNING:tensorflow:From C:\\Users\\keert\\Anaconda3\\lib\\site-packages\\tensorflow\\python\\ops\\math_ops.py:3066: to_int32 (from tensorflow.python.ops.math_ops) is deprecated and will be removed in a future version.\n",
      "Instructions for updating:\n",
      "Use tf.cast instead.\n",
      "Train on 60000 samples, validate on 10000 samples\n",
      "Epoch 1/12\n",
      "60000/60000 [==============================] - 14s 240us/step - loss: 0.3057 - acc: 0.9096 - val_loss: 0.0799 - val_acc: 0.9762\n",
      "Epoch 2/12\n",
      "60000/60000 [==============================] - 14s 234us/step - loss: 0.0776 - acc: 0.9756 - val_loss: 0.0515 - val_acc: 0.9833\n",
      "Epoch 3/12\n",
      "60000/60000 [==============================] - 14s 231us/step - loss: 0.0539 - acc: 0.9830 - val_loss: 0.0412 - val_acc: 0.9872\n",
      "Epoch 4/12\n",
      "60000/60000 [==============================] - 14s 232us/step - loss: 0.0414 - acc: 0.9875 - val_loss: 0.0510 - val_acc: 0.9833\n",
      "Epoch 5/12\n",
      "60000/60000 [==============================] - 14s 232us/step - loss: 0.0344 - acc: 0.9891 - val_loss: 0.0351 - val_acc: 0.9880\n",
      "Epoch 6/12\n",
      "60000/60000 [==============================] - 15s 248us/step - loss: 0.0281 - acc: 0.9913 - val_loss: 0.0333 - val_acc: 0.9883\n",
      "Epoch 7/12\n",
      "60000/60000 [==============================] - 14s 232us/step - loss: 0.0244 - acc: 0.9916 - val_loss: 0.0267 - val_acc: 0.9909\n",
      "Epoch 8/12\n",
      "60000/60000 [==============================] - 16s 261us/step - loss: 0.0194 - acc: 0.9937 - val_loss: 0.0298 - val_acc: 0.9907\n",
      "Epoch 9/12\n",
      "60000/60000 [==============================] - 15s 254us/step - loss: 0.0170 - acc: 0.9946 - val_loss: 0.0298 - val_acc: 0.9902\n",
      "Epoch 10/12\n",
      "60000/60000 [==============================] - 14s 231us/step - loss: 0.0148 - acc: 0.9948 - val_loss: 0.0341 - val_acc: 0.9892\n",
      "Epoch 11/12\n",
      "60000/60000 [==============================] - 14s 230us/step - loss: 0.0124 - acc: 0.9958 - val_loss: 0.0283 - val_acc: 0.9903\n",
      "Epoch 12/12\n",
      "60000/60000 [==============================] - 14s 230us/step - loss: 0.0091 - acc: 0.9974 - val_loss: 0.0318 - val_acc: 0.9902\n",
      "Test loss: 0.0317619974554118\n",
      "Test accuracy: 0.9902\n"
     ]
    }
   ],
   "source": [
    "import warnings\n",
    "warnings.filterwarnings(\"ignore\")\n",
    "# In this (First Model) lets follow the general structure of the lenet we will make a simple model\n",
    "# Network Architecture\n",
    "# input -> conv -> polling -> conv -> polling -> FC -> FC -> output\n",
    "# 8 16 120 84 10\n",
    "model = Sequential()\n",
    "model.add(Conv2D(6, kernel_size=(3, 3),activation='relu',padding='same',input_shape=input_shape))\n",
    "model.add(MaxPooling2D(pool_size=(2, 2),strides=2))# for the location invariants\n",
    "model.add(Conv2D(25, (5, 5), activation='relu'))\n",
    "model.add(MaxPooling2D(pool_size=(2, 2),strides=2))# for the location invariants\n",
    "model.add(Flatten())\n",
    "model.add(Dense(120, activation='relu'))\n",
    "model.add(Dense(84, activation='relu'))\n",
    "model.add(Dense(num_classes, activation='softmax'))\n",
    "model.compile(loss=keras.losses.categorical_crossentropy,\n",
    "              optimizer=keras.optimizers.adam(),\n",
    "              metrics=['accuracy'])\n",
    "# this will train the model and validate the model in this fit function\n",
    "model.summary()\n",
    "\n",
    "# Fitting the model\n",
    "history=model.fit(x_train, y_train,\n",
    "                  batch_size=batch_size,\n",
    "                  epochs=epochs,\n",
    "                  verbose=1,\n",
    "                  validation_data=(x_test, y_test))\n",
    "score = model.evaluate(x_test, y_test, verbose=0)\n",
    "print('Test loss:', score[0])\n",
    "print('Test accuracy:', score[1])"
   ]
  },
  {
   "cell_type": "markdown",
   "metadata": {},
   "source": [
    "### Plotting epoch vs loss"
   ]
  },
  {
   "cell_type": "code",
   "execution_count": 4,
   "metadata": {},
   "outputs": [
    {
     "name": "stdout",
     "output_type": "stream",
     "text": [
      "Train score: 0.007001584335625739\n",
      "Train accuracy: 99.78666666666666\n",
      "\n",
      "************************ *********************\n",
      "\n",
      "Test score: 0.0317619974554118\n",
      "Test accuracy: 99.02\n"
     ]
    },
    {
     "data": {
      "image/png": "[encoded data removed]",
      "text/plain": [
       "<Figure size 432x288 with 1 Axes>"
      ]
     },
     "metadata": {},
     "output_type": "display_data"
    }
   ],
   "source": [
    "score = model.evaluate(x_train, y_train, verbose=0)\n",
    "print('Train score:', score[0])\n",
    "print('Train accuracy:', score[1]*100)\n",
    "print('\\n************************ *********************\\n')\n",
    "#test accuracy\n",
    "score = model.evaluate(x_test, y_test, verbose=0)\n",
    "print('Test score:', score[0])\n",
    "print('Test accuracy:', score[1]*100)\n",
    "# plot\n",
    "fig,ax = plt.subplots(1,1)\n",
    "ax.set_xlabel('epoch');\n",
    "ax.set_ylabel('Categorical Crossentropy Loss')\n",
    "x = list(range(1,12+1))\n",
    "vy = history.history['val_loss']\n",
    "ty = history.history['loss']\n",
    "plt_dynamic(x, vy, ty, ax)"
   ]
  },
  {
   "cell_type": "markdown",
   "metadata": {},
   "source": [
    "### Model 2; 3 conv, 3 maxpool, 2 dense layers"
   ]
  },
  {
   "cell_type": "code",
   "execution_count": 5,
   "metadata": {},
   "outputs": [
    {
     "name": "stdout",
     "output_type": "stream",
     "text": [
      "_________________________________________________________________\n",
      "Layer (type)                 Output Shape              Param #   \n",
      "=================================================================\n",
      "conv2d_3 (Conv2D)            (None, 28, 28, 6)         60        \n",
      "_________________________________________________________________\n",
      "max_pooling2d_3 (MaxPooling2 (None, 14, 14, 6)         0         \n",
      "_________________________________________________________________\n",
      "conv2d_4 (Conv2D)            (None, 10, 10, 25)        3775      \n",
      "_________________________________________________________________\n",
      "max_pooling2d_4 (MaxPooling2 (None, 5, 5, 25)          0         \n",
      "_________________________________________________________________\n",
      "conv2d_5 (Conv2D)            (None, 3, 3, 50)          11300     \n",
      "_________________________________________________________________\n",
      "max_pooling2d_5 (MaxPooling2 (None, 1, 1, 50)          0         \n",
      "_________________________________________________________________\n",
      "flatten_2 (Flatten)          (None, 50)                0         \n",
      "_________________________________________________________________\n",
      "dense_4 (Dense)              (None, 120)               6120      \n",
      "_________________________________________________________________\n",
      "dense_5 (Dense)              (None, 10)                1210      \n",
      "=================================================================\n",
      "Total params: 22,465\n",
      "Trainable params: 22,465\n",
      "Non-trainable params: 0\n",
      "_________________________________________________________________\n",
      "Train on 60000 samples, validate on 10000 samples\n",
      "Epoch 1/12\n",
      "60000/60000 [==============================] - 15s 248us/step - loss: 0.4157 - acc: 0.8815 - val_loss: 0.1204 - val_acc: 0.9625\n",
      "Epoch 2/12\n",
      "60000/60000 [==============================] - 15s 243us/step - loss: 0.1123 - acc: 0.9653 - val_loss: 0.0718 - val_acc: 0.9783\n",
      "Epoch 3/12\n",
      "60000/60000 [==============================] - 15s 243us/step - loss: 0.0781 - acc: 0.9760 - val_loss: 0.0761 - val_acc: 0.9768\n",
      "Epoch 4/12\n",
      "60000/60000 [==============================] - 14s 241us/step - loss: 0.0648 - acc: 0.9798 - val_loss: 0.0631 - val_acc: 0.9794\n",
      "Epoch 5/12\n",
      "60000/60000 [==============================] - 14s 241us/step - loss: 0.0537 - acc: 0.9831 - val_loss: 0.0511 - val_acc: 0.9841\n",
      "Epoch 6/12\n",
      "60000/60000 [==============================] - 14s 242us/step - loss: 0.0471 - acc: 0.9853 - val_loss: 0.0412 - val_acc: 0.9870\n",
      "Epoch 7/12\n",
      "60000/60000 [==============================] - 14s 241us/step - loss: 0.0405 - acc: 0.9872 - val_loss: 0.0425 - val_acc: 0.9863\n",
      "Epoch 8/12\n",
      "60000/60000 [==============================] - 14s 242us/step - loss: 0.0357 - acc: 0.9889 - val_loss: 0.0441 - val_acc: 0.9870\n",
      "Epoch 9/12\n",
      "60000/60000 [==============================] - 15s 246us/step - loss: 0.0335 - acc: 0.9893 - val_loss: 0.0403 - val_acc: 0.9869\n",
      "Epoch 10/12\n",
      "60000/60000 [==============================] - 15s 246us/step - loss: 0.0296 - acc: 0.9905 - val_loss: 0.0626 - val_acc: 0.9805\n",
      "Epoch 11/12\n",
      "60000/60000 [==============================] - 15s 247us/step - loss: 0.0280 - acc: 0.9911 - val_loss: 0.0459 - val_acc: 0.9836\n",
      "Epoch 12/12\n",
      "60000/60000 [==============================] - 15s 243us/step - loss: 0.0234 - acc: 0.9927 - val_loss: 0.0405 - val_acc: 0.9873\n",
      "Test loss: 0.040494644202355996\n",
      "Test accuracy: 0.9873\n"
     ]
    }
   ],
   "source": [
    "import warnings\n",
    "warnings.filterwarnings(\"ignore\")\n",
    "# In this (First Model) lets follow the general structure of the lenet we will make a simple model\n",
    "# Network Architecture\n",
    "# input -> conv -> polling -> conv -> polling -> FC -> FC -> output\n",
    "# 8 16 120 84 10\n",
    "model = Sequential()\n",
    "model.add(Conv2D(6, kernel_size= (3, 3),activation='relu',padding='same',input_shape=input_shape))\n",
    "model.add(MaxPooling2D(pool_size= (2, 2),strides=2))# for the location invariants\n",
    "model.add(Conv2D(25, (5, 5), activation='relu'))\n",
    "model.add(MaxPooling2D(pool_size= (2, 2),strides=2))# for the location invariants\n",
    "model.add(Conv2D(50, kernel_size= (3, 3), activation='relu'))\n",
    "model.add(MaxPooling2D(pool_size=(2, 2),strides=2))# for the location invariants\n",
    "\n",
    "model.add(Flatten())\n",
    "\n",
    "model.add(Dense(120, activation='relu'))\n",
    "model.add(Dense(num_classes, activation='softmax'))\n",
    "model.compile(loss=keras.losses.categorical_crossentropy,\n",
    "              optimizer=keras.optimizers.adam(),\n",
    "              metrics=['accuracy'])\n",
    "# this will train the model and validate the model in this fit function\n",
    "model.summary()\n",
    "\n",
    "# Fitting the model\n",
    "history=model.fit(x_train, y_train,\n",
    "                  batch_size=batch_size,\n",
    "                  epochs=epochs,\n",
    "                  verbose=1,\n",
    "                  validation_data=(x_test, y_test))\n",
    "score = model.evaluate(x_test, y_test, verbose=0)\n",
    "print('Test loss:', score[0])\n",
    "print('Test accuracy:', score[1])"
   ]
  },
  {
   "cell_type": "markdown",
   "metadata": {},
   "source": [
    "### Plotting epoch vs loss"
   ]
  },
  {
   "cell_type": "code",
   "execution_count": 6,
   "metadata": {},
   "outputs": [
    {
     "name": "stdout",
     "output_type": "stream",
     "text": [
      "Train score: 0.017898814101324146\n",
      "Train accuracy: 99.425\n",
      "\n",
      "************************ *********************\n",
      "\n",
      "Test score: 0.040494644202355996\n",
      "Test accuracy: 98.72999999999999\n"
     ]
    },
    {
     "data": {
      "image/png": "[encoded data removed]",
      "text/plain": [
       "<Figure size 432x288 with 1 Axes>"
      ]
     },
     "metadata": {},
     "output_type": "display_data"
    }
   ],
   "source": [
    "score = model.evaluate(x_train, y_train, verbose=0)\n",
    "print('Train score:', score[0])\n",
    "print('Train accuracy:', score[1]*100)\n",
    "print('\\n************************ *********************\\n')\n",
    "#test accuracy\n",
    "score = model.evaluate(x_test, y_test, verbose=0)\n",
    "print('Test score:', score[0])\n",
    "print('Test accuracy:', score[1]*100)\n",
    "# plot\n",
    "fig,ax = plt.subplots(1,1)\n",
    "ax.set_xlabel('epoch');\n",
    "ax.set_ylabel('Categorical Crossentropy Loss')\n",
    "x = list(range(1,12+1))\n",
    "vy = history.history['val_loss']\n",
    "ty = history.history['loss']\n",
    "plt_dynamic(x, vy, ty, ax)"
   ]
  },
  {
   "cell_type": "markdown",
   "metadata": {},
   "source": [
    "### Model 3; 4 conv, 2 maxpool, 2 dense layers"
   ]
  },
  {
   "cell_type": "code",
   "execution_count": 7,
   "metadata": {},
   "outputs": [
    {
     "name": "stdout",
     "output_type": "stream",
     "text": [
      "_________________________________________________________________\n",
      "Layer (type)                 Output Shape              Param #   \n",
      "=================================================================\n",
      "conv2d_6 (Conv2D)            (None, 28, 28, 6)         60        \n",
      "_________________________________________________________________\n",
      "conv2d_7 (Conv2D)            (None, 24, 24, 25)        3775      \n",
      "_________________________________________________________________\n",
      "max_pooling2d_6 (MaxPooling2 (None, 12, 12, 25)        0         \n",
      "_________________________________________________________________\n",
      "conv2d_8 (Conv2D)            (None, 8, 8, 25)          15650     \n",
      "_________________________________________________________________\n",
      "conv2d_9 (Conv2D)            (None, 6, 6, 50)          11300     \n",
      "_________________________________________________________________\n",
      "max_pooling2d_7 (MaxPooling2 (None, 3, 3, 50)          0         \n",
      "_________________________________________________________________\n",
      "flatten_3 (Flatten)          (None, 450)               0         \n",
      "_________________________________________________________________\n",
      "dense_6 (Dense)              (None, 120)               54120     \n",
      "_________________________________________________________________\n",
      "dense_7 (Dense)              (None, 10)                1210      \n",
      "=================================================================\n",
      "Total params: 86,115\n",
      "Trainable params: 86,115\n",
      "Non-trainable params: 0\n",
      "_________________________________________________________________\n",
      "Train on 60000 samples, validate on 10000 samples\n",
      "Epoch 1/12\n",
      "60000/60000 [==============================] - 56s 939us/step - loss: 0.2163 - acc: 0.9338 - val_loss: 0.0588 - val_acc: 0.9811\n",
      "Epoch 2/12\n",
      "60000/60000 [==============================] - 56s 932us/step - loss: 0.0573 - acc: 0.9825 - val_loss: 0.0399 - val_acc: 0.9867\n",
      "Epoch 3/12\n",
      "60000/60000 [==============================] - 56s 927us/step - loss: 0.0406 - acc: 0.9874 - val_loss: 0.0403 - val_acc: 0.9870\n",
      "Epoch 4/12\n",
      "60000/60000 [==============================] - 55s 924us/step - loss: 0.0313 - acc: 0.9901 - val_loss: 0.0282 - val_acc: 0.9899\n",
      "Epoch 5/12\n",
      "60000/60000 [==============================] - 56s 932us/step - loss: 0.0247 - acc: 0.9922 - val_loss: 0.0272 - val_acc: 0.9904\n",
      "Epoch 6/12\n",
      "60000/60000 [==============================] - 56s 934us/step - loss: 0.0228 - acc: 0.9928 - val_loss: 0.0323 - val_acc: 0.9897\n",
      "Epoch 7/12\n",
      "60000/60000 [==============================] - 55s 911us/step - loss: 0.0187 - acc: 0.9941 - val_loss: 0.0372 - val_acc: 0.9885\n",
      "Epoch 8/12\n",
      "60000/60000 [==============================] - 56s 941us/step - loss: 0.0167 - acc: 0.9948 - val_loss: 0.0235 - val_acc: 0.9930\n",
      "Epoch 9/12\n",
      "60000/60000 [==============================] - 57s 942us/step - loss: 0.0130 - acc: 0.9958 - val_loss: 0.0343 - val_acc: 0.9898\n",
      "Epoch 10/12\n",
      "60000/60000 [==============================] - 56s 935us/step - loss: 0.0130 - acc: 0.9957 - val_loss: 0.0282 - val_acc: 0.9908\n",
      "Epoch 11/12\n",
      "60000/60000 [==============================] - 55s 918us/step - loss: 0.0121 - acc: 0.9960 - val_loss: 0.0228 - val_acc: 0.9931\n",
      "Epoch 12/12\n",
      "60000/60000 [==============================] - 58s 961us/step - loss: 0.0095 - acc: 0.9969 - val_loss: 0.0237 - val_acc: 0.9929\n",
      "Test loss: 0.023684316596121063\n",
      "Test accuracy: 0.9929\n"
     ]
    }
   ],
   "source": [
    "import warnings\n",
    "warnings.filterwarnings(\"ignore\")\n",
    "# In this (First Model) lets follow the general structure of the lenet we will make a simple model\n",
    "# Network Architecture\n",
    "# input -> conv -> polling -> conv -> polling -> FC -> FC -> output\n",
    "# 8 16 120 84 10\n",
    "model = Sequential()\n",
    "model.add(Conv2D(6, kernel_size= (3, 3),activation='relu',padding='same',input_shape=input_shape))\n",
    "model.add(Conv2D(25, (5, 5), activation='relu'))\n",
    "model.add(MaxPooling2D(pool_size= (2, 2),strides=2))# for the location invariants\n",
    "model.add(Conv2D(25, (5, 5), activation='relu'))\n",
    "model.add(Conv2D(50, kernel_size= (3, 3), activation='relu'))\n",
    "model.add(MaxPooling2D(pool_size=(2, 2),strides=2))# for the location invariants\n",
    "\n",
    "\n",
    "model.add(Flatten())\n",
    "\n",
    "model.add(Dense(120, activation='relu'))\n",
    "model.add(Dense(num_classes, activation='softmax'))\n",
    "model.compile(loss=keras.losses.categorical_crossentropy,\n",
    "              optimizer=keras.optimizers.adam(),\n",
    "              metrics=['accuracy'])\n",
    "# this will train the model and validate the model in this fit function\n",
    "model.summary()\n",
    "\n",
    "# Fitting the model\n",
    "history=model.fit(x_train, y_train,\n",
    "                  batch_size=batch_size,\n",
    "                  epochs=epochs,\n",
    "                  verbose=1,\n",
    "                  validation_data=(x_test, y_test))\n",
    "score = model.evaluate(x_test, y_test, verbose=0)\n",
    "print('Test loss:', score[0])\n",
    "print('Test accuracy:', score[1])"
   ]
  },
  {
   "cell_type": "markdown",
   "metadata": {},
   "source": [
    "### Plotting epoch vs loss"
   ]
  },
  {
   "cell_type": "code",
   "execution_count": 8,
   "metadata": {},
   "outputs": [
    {
     "name": "stdout",
     "output_type": "stream",
     "text": [
      "Train score: 0.008717105705489423\n",
      "Train accuracy: 99.72333333333333\n",
      "\n",
      "************************ *********************\n",
      "\n",
      "Test score: 0.023684316596121063\n",
      "Test accuracy: 99.29\n"
     ]
    },
    {
     "data": {
      "image/png": "[encoded data removed]",
      "text/plain": [
       "<Figure size 432x288 with 1 Axes>"
      ]
     },
     "metadata": {},
     "output_type": "display_data"
    }
   ],
   "source": [
    "score = model.evaluate(x_train, y_train, verbose=0)\n",
    "print('Train score:', score[0])\n",
    "print('Train accuracy:', score[1]*100)\n",
    "print('\\n************************ *********************\\n')\n",
    "#test accuracy\n",
    "score = model.evaluate(x_test, y_test, verbose=0)\n",
    "print('Test score:', score[0])\n",
    "print('Test accuracy:', score[1]*100)\n",
    "# plot\n",
    "fig,ax = plt.subplots(1,1)\n",
    "ax.set_xlabel('epoch');\n",
    "ax.set_ylabel('Categorical Crossentropy Loss')\n",
    "x = list(range(1,12+1))\n",
    "vy = history.history['val_loss']\n",
    "ty = history.history['loss']\n",
    "plt_dynamic(x, vy, ty, ax)"
   ]
  },
  {
   "cell_type": "markdown",
   "metadata": {},
   "source": [
    "### Model 1; 2 conv, 2 maxpool, 3 dense layers, dropout = 0.1"
   ]
  },
  {
   "cell_type": "code",
   "execution_count": 9,
   "metadata": {},
   "outputs": [
    {
     "name": "stdout",
     "output_type": "stream",
     "text": [
      "WARNING:tensorflow:From C:\\Users\\keert\\Anaconda3\\lib\\site-packages\\keras\\backend\\tensorflow_backend.py:3445: calling dropout (from tensorflow.python.ops.nn_ops) with keep_prob is deprecated and will be removed in a future version.\n",
      "Instructions for updating:\n",
      "Please use `rate` instead of `keep_prob`. Rate should be set to `rate = 1 - keep_prob`.\n",
      "_________________________________________________________________\n",
      "Layer (type)                 Output Shape              Param #   \n",
      "=================================================================\n",
      "conv2d_10 (Conv2D)           (None, 28, 28, 6)         60        \n",
      "_________________________________________________________________\n",
      "max_pooling2d_8 (MaxPooling2 (None, 14, 14, 6)         0         \n",
      "_________________________________________________________________\n",
      "conv2d_11 (Conv2D)           (None, 10, 10, 25)        3775      \n",
      "_________________________________________________________________\n",
      "max_pooling2d_9 (MaxPooling2 (None, 5, 5, 25)          0         \n",
      "_________________________________________________________________\n",
      "dropout_1 (Dropout)          (None, 5, 5, 25)          0         \n",
      "_________________________________________________________________\n",
      "flatten_4 (Flatten)          (None, 625)               0         \n",
      "_________________________________________________________________\n",
      "dense_8 (Dense)              (None, 120)               75120     \n",
      "_________________________________________________________________\n",
      "dense_9 (Dense)              (None, 84)                10164     \n",
      "_________________________________________________________________\n",
      "dense_10 (Dense)             (None, 10)                850       \n",
      "=================================================================\n",
      "Total params: 89,969\n",
      "Trainable params: 89,969\n",
      "Non-trainable params: 0\n",
      "_________________________________________________________________\n",
      "Train on 60000 samples, validate on 10000 samples\n",
      "Epoch 1/12\n",
      "60000/60000 [==============================] - 16s 259us/step - loss: 0.2940 - acc: 0.9129 - val_loss: 0.0744 - val_acc: 0.9760\n",
      "Epoch 2/12\n",
      "60000/60000 [==============================] - 14s 240us/step - loss: 0.0760 - acc: 0.9764 - val_loss: 0.0559 - val_acc: 0.9825\n",
      "Epoch 3/12\n",
      "60000/60000 [==============================] - 14s 235us/step - loss: 0.0536 - acc: 0.9834 - val_loss: 0.0441 - val_acc: 0.9857\n",
      "Epoch 4/12\n",
      "60000/60000 [==============================] - 14s 236us/step - loss: 0.0432 - acc: 0.9862 - val_loss: 0.0378 - val_acc: 0.9869\n",
      "Epoch 5/12\n",
      "60000/60000 [==============================] - 15s 242us/step - loss: 0.0359 - acc: 0.9886 - val_loss: 0.0302 - val_acc: 0.9895\n",
      "Epoch 6/12\n",
      "60000/60000 [==============================] - 14s 238us/step - loss: 0.0309 - acc: 0.9904 - val_loss: 0.0361 - val_acc: 0.9877\n",
      "Epoch 7/12\n",
      "60000/60000 [==============================] - 14s 234us/step - loss: 0.0268 - acc: 0.9914 - val_loss: 0.0401 - val_acc: 0.9870\n",
      "Epoch 8/12\n",
      "60000/60000 [==============================] - 14s 234us/step - loss: 0.0223 - acc: 0.9927 - val_loss: 0.0323 - val_acc: 0.9894\n",
      "Epoch 9/12\n",
      "60000/60000 [==============================] - 14s 231us/step - loss: 0.0206 - acc: 0.9927 - val_loss: 0.0324 - val_acc: 0.9895\n",
      "Epoch 10/12\n",
      "60000/60000 [==============================] - 14s 232us/step - loss: 0.0181 - acc: 0.9936 - val_loss: 0.0328 - val_acc: 0.9895\n",
      "Epoch 11/12\n",
      "60000/60000 [==============================] - 14s 229us/step - loss: 0.0155 - acc: 0.9947 - val_loss: 0.0259 - val_acc: 0.9912\n",
      "Epoch 12/12\n",
      "60000/60000 [==============================] - 14s 228us/step - loss: 0.0150 - acc: 0.9950 - val_loss: 0.0304 - val_acc: 0.9906\n",
      "Test loss: 0.03041393990173674\n",
      "Test accuracy: 0.9906\n"
     ]
    }
   ],
   "source": [
    "import warnings\n",
    "warnings.filterwarnings(\"ignore\")\n",
    "# In this (First Model) lets follow the general structure of the lenet we will make a simple model\n",
    "# Network Architecture\n",
    "# input -> conv -> polling -> conv -> polling -> FC -> FC -> output\n",
    "# 8 16 120 84 10\n",
    "model = Sequential()\n",
    "model.add(Conv2D(6, kernel_size=(3, 3),activation='relu',padding='same',input_shape=input_shape))\n",
    "model.add(MaxPooling2D(pool_size=(2, 2),strides=2))# for the location invariants\n",
    "model.add(Conv2D(25, (5, 5), activation='relu'))\n",
    "model.add(MaxPooling2D(pool_size=(2, 2),strides=2))# for the location invariants\n",
    "model.add(Dropout(0.1))\n",
    "model.add(Flatten())\n",
    "model.add(Dense(120, activation='relu'))\n",
    "model.add(Dense(84, activation='relu'))\n",
    "model.add(Dense(num_classes, activation='softmax'))\n",
    "model.compile(loss=keras.losses.categorical_crossentropy,\n",
    "              optimizer=keras.optimizers.adam(),\n",
    "              metrics=['accuracy'])\n",
    "# this will train the model and validate the model in this fit function\n",
    "model.summary()\n",
    "\n",
    "# Fitting the model\n",
    "history=model.fit(x_train, y_train,\n",
    "                  batch_size=batch_size,\n",
    "                  epochs=epochs,\n",
    "                  verbose=1,\n",
    "                  validation_data=(x_test, y_test))\n",
    "score = model.evaluate(x_test, y_test, verbose=0)\n",
    "print('Test loss:', score[0])\n",
    "print('Test accuracy:', score[1])"
   ]
  },
  {
   "cell_type": "markdown",
   "metadata": {},
   "source": [
    "### Plotting epoch vs loss"
   ]
  },
  {
   "cell_type": "code",
   "execution_count": 10,
   "metadata": {},
   "outputs": [
    {
     "name": "stdout",
     "output_type": "stream",
     "text": [
      "Train score: 0.008950809193263316\n",
      "Train accuracy: 99.71833333333333\n",
      "\n",
      "************************ *********************\n",
      "\n",
      "Test score: 0.03041393990173674\n",
      "Test accuracy: 99.06\n"
     ]
    },
    {
     "data": {
      "image/png": "[encoded data removed]",
      "text/plain": [
       "<Figure size 432x288 with 1 Axes>"
      ]
     },
     "metadata": {},
     "output_type": "display_data"
    }
   ],
   "source": [
    "score = model.evaluate(x_train, y_train, verbose=0)\n",
    "print('Train score:', score[0])\n",
    "print('Train accuracy:', score[1]*100)\n",
    "print('\\n************************ *********************\\n')\n",
    "#test accuracy\n",
    "score = model.evaluate(x_test, y_test, verbose=0)\n",
    "print('Test score:', score[0])\n",
    "print('Test accuracy:', score[1]*100)\n",
    "# plot\n",
    "fig,ax = plt.subplots(1,1)\n",
    "ax.set_xlabel('epoch');\n",
    "ax.set_ylabel('Categorical Crossentropy Loss')\n",
    "x = list(range(1,12+1))\n",
    "vy = history.history['val_loss']\n",
    "ty = history.history['loss']\n",
    "plt_dynamic(x, vy, ty, ax)"
   ]
  },
  {
   "cell_type": "markdown",
   "metadata": {},
   "source": [
    "### Model 2; 3 conv, 3 maxpool, 2 dense layers, dropout = 0.5"
   ]
  },
  {
   "cell_type": "code",
   "execution_count": 11,
   "metadata": {},
   "outputs": [
    {
     "name": "stdout",
     "output_type": "stream",
     "text": [
      "_________________________________________________________________\n",
      "Layer (type)                 Output Shape              Param #   \n",
      "=================================================================\n",
      "conv2d_12 (Conv2D)           (None, 28, 28, 6)         60        \n",
      "_________________________________________________________________\n",
      "max_pooling2d_10 (MaxPooling (None, 14, 14, 6)         0         \n",
      "_________________________________________________________________\n",
      "conv2d_13 (Conv2D)           (None, 10, 10, 25)        3775      \n",
      "_________________________________________________________________\n",
      "max_pooling2d_11 (MaxPooling (None, 5, 5, 25)          0         \n",
      "_________________________________________________________________\n",
      "conv2d_14 (Conv2D)           (None, 3, 3, 50)          11300     \n",
      "_________________________________________________________________\n",
      "max_pooling2d_12 (MaxPooling (None, 1, 1, 50)          0         \n",
      "_________________________________________________________________\n",
      "dropout_2 (Dropout)          (None, 1, 1, 50)          0         \n",
      "_________________________________________________________________\n",
      "flatten_5 (Flatten)          (None, 50)                0         \n",
      "_________________________________________________________________\n",
      "dense_11 (Dense)             (None, 120)               6120      \n",
      "_________________________________________________________________\n",
      "dense_12 (Dense)             (None, 10)                1210      \n",
      "=================================================================\n",
      "Total params: 22,465\n",
      "Trainable params: 22,465\n",
      "Non-trainable params: 0\n",
      "_________________________________________________________________\n",
      "Train on 60000 samples, validate on 10000 samples\n",
      "Epoch 1/12\n",
      "60000/60000 [==============================] - 15s 246us/step - loss: 0.7098 - acc: 0.7744 - val_loss: 0.1564 - val_acc: 0.9511\n",
      "Epoch 2/12\n",
      "60000/60000 [==============================] - 14s 234us/step - loss: 0.2907 - acc: 0.9095 - val_loss: 0.1017 - val_acc: 0.9692\n",
      "Epoch 3/12\n",
      "60000/60000 [==============================] - 14s 236us/step - loss: 0.2205 - acc: 0.9331 - val_loss: 0.0818 - val_acc: 0.9742\n",
      "Epoch 4/12\n",
      "60000/60000 [==============================] - 15s 243us/step - loss: 0.1820 - acc: 0.9442 - val_loss: 0.0752 - val_acc: 0.9773\n",
      "Epoch 5/12\n",
      "60000/60000 [==============================] - 14s 241us/step - loss: 0.1594 - acc: 0.9521 - val_loss: 0.0684 - val_acc: 0.9809\n",
      "Epoch 6/12\n",
      "60000/60000 [==============================] - 15s 242us/step - loss: 0.1425 - acc: 0.9566 - val_loss: 0.0625 - val_acc: 0.9816\n",
      "Epoch 7/12\n",
      "60000/60000 [==============================] - 14s 241us/step - loss: 0.1292 - acc: 0.9600 - val_loss: 0.0596 - val_acc: 0.9829\n",
      "Epoch 8/12\n",
      "60000/60000 [==============================] - 14s 240us/step - loss: 0.1196 - acc: 0.9635 - val_loss: 0.0521 - val_acc: 0.9849\n",
      "Epoch 9/12\n",
      "60000/60000 [==============================] - 14s 241us/step - loss: 0.1127 - acc: 0.9657 - val_loss: 0.0500 - val_acc: 0.9844\n",
      "Epoch 10/12\n",
      "60000/60000 [==============================] - 15s 244us/step - loss: 0.1066 - acc: 0.9672 - val_loss: 0.0486 - val_acc: 0.9858\n",
      "Epoch 11/12\n",
      "60000/60000 [==============================] - 14s 241us/step - loss: 0.1008 - acc: 0.9689 - val_loss: 0.0542 - val_acc: 0.9847\n",
      "Epoch 12/12\n",
      "60000/60000 [==============================] - 14s 241us/step - loss: 0.0933 - acc: 0.9716 - val_loss: 0.0437 - val_acc: 0.9866\n",
      "Test loss: 0.0437344656774716\n",
      "Test accuracy: 0.9866\n"
     ]
    }
   ],
   "source": [
    "import warnings\n",
    "warnings.filterwarnings(\"ignore\")\n",
    "# In this (First Model) lets follow the general structure of the lenet we will make a simple model\n",
    "# Network Architecture\n",
    "# input -> conv -> polling -> conv -> polling -> FC -> FC -> output\n",
    "# 8 16 120 84 10\n",
    "model = Sequential()\n",
    "model.add(Conv2D(6, kernel_size= (3, 3),activation='relu',padding='same',input_shape=input_shape))\n",
    "model.add(MaxPooling2D(pool_size= (2, 2),strides=2))# for the location invariants\n",
    "model.add(Conv2D(25, (5, 5), activation='relu'))\n",
    "model.add(MaxPooling2D(pool_size= (2, 2),strides=2))# for the location invariants\n",
    "model.add(Conv2D(50, kernel_size= (3, 3), activation='relu'))\n",
    "model.add(MaxPooling2D(pool_size=(2, 2),strides=2))# for the location invariants\n",
    "\n",
    "model.add(Dropout(0.5))\n",
    "model.add(Flatten())\n",
    "\n",
    "model.add(Dense(120, activation='relu'))\n",
    "model.add(Dense(num_classes, activation='softmax'))\n",
    "model.compile(loss=keras.losses.categorical_crossentropy,\n",
    "              optimizer=keras.optimizers.adam(),\n",
    "              metrics=['accuracy'])\n",
    "# this will train the model and validate the model in this fit function\n",
    "model.summary()\n",
    "\n",
    "# Fitting the model\n",
    "history=model.fit(x_train, y_train,\n",
    "                  batch_size=batch_size,\n",
    "                  epochs=epochs,\n",
    "                  verbose=1,\n",
    "                  validation_data=(x_test, y_test))\n",
    "score = model.evaluate(x_test, y_test, verbose=0)\n",
    "print('Test loss:', score[0])\n",
    "print('Test accuracy:', score[1])"
   ]
  },
  {
   "cell_type": "markdown",
   "metadata": {},
   "source": [
    "### Plotting epoch vs loss"
   ]
  },
  {
   "cell_type": "code",
   "execution_count": 12,
   "metadata": {},
   "outputs": [
    {
     "name": "stdout",
     "output_type": "stream",
     "text": [
      "Train score: 0.034344911297610574\n",
      "Train accuracy: 98.92\n",
      "\n",
      "************************ *********************\n",
      "\n",
      "Test score: 0.0437344656774716\n",
      "Test accuracy: 98.66\n"
     ]
    },
    {
     "data": {
      "image/png": "[encoded data removed]",
      "text/plain": [
       "<Figure size 432x288 with 1 Axes>"
      ]
     },
     "metadata": {},
     "output_type": "display_data"
    }
   ],
   "source": [
    "score = model.evaluate(x_train, y_train, verbose=0)\n",
    "print('Train score:', score[0])\n",
    "print('Train accuracy:', score[1]*100)\n",
    "print('\\n************************ *********************\\n')\n",
    "#test accuracy\n",
    "score = model.evaluate(x_test, y_test, verbose=0)\n",
    "print('Test score:', score[0])\n",
    "print('Test accuracy:', score[1]*100)\n",
    "# plot\n",
    "fig,ax = plt.subplots(1,1)\n",
    "ax.set_xlabel('epoch');\n",
    "ax.set_ylabel('Categorical Crossentropy Loss')\n",
    "x = list(range(1,12+1))\n",
    "vy = history.history['val_loss']\n",
    "ty = history.history['loss']\n",
    "plt_dynamic(x, vy, ty, ax)"
   ]
  },
  {
   "cell_type": "markdown",
   "metadata": {},
   "source": [
    "### Model 3; 4 conv, 2 maxpool, 2 dense layers, dropout = 0.9"
   ]
  },
  {
   "cell_type": "code",
   "execution_count": 13,
   "metadata": {},
   "outputs": [
    {
     "name": "stdout",
     "output_type": "stream",
     "text": [
      "_________________________________________________________________\n",
      "Layer (type)                 Output Shape              Param #   \n",
      "=================================================================\n",
      "conv2d_15 (Conv2D)           (None, 28, 28, 6)         60        \n",
      "_________________________________________________________________\n",
      "conv2d_16 (Conv2D)           (None, 24, 24, 25)        3775      \n",
      "_________________________________________________________________\n",
      "max_pooling2d_13 (MaxPooling (None, 12, 12, 25)        0         \n",
      "_________________________________________________________________\n",
      "conv2d_17 (Conv2D)           (None, 8, 8, 25)          15650     \n",
      "_________________________________________________________________\n",
      "conv2d_18 (Conv2D)           (None, 6, 6, 50)          11300     \n",
      "_________________________________________________________________\n",
      "max_pooling2d_14 (MaxPooling (None, 3, 3, 50)          0         \n",
      "_________________________________________________________________\n",
      "dropout_3 (Dropout)          (None, 3, 3, 50)          0         \n",
      "_________________________________________________________________\n",
      "flatten_6 (Flatten)          (None, 450)               0         \n",
      "_________________________________________________________________\n",
      "dense_13 (Dense)             (None, 120)               54120     \n",
      "_________________________________________________________________\n",
      "dense_14 (Dense)             (None, 10)                1210      \n",
      "=================================================================\n",
      "Total params: 86,115\n",
      "Trainable params: 86,115\n",
      "Non-trainable params: 0\n",
      "_________________________________________________________________\n",
      "Train on 60000 samples, validate on 10000 samples\n",
      "Epoch 1/12\n",
      "60000/60000 [==============================] - 56s 932us/step - loss: 0.7461 - acc: 0.7452 - val_loss: 0.1043 - val_acc: 0.9683\n",
      "Epoch 2/12\n",
      "60000/60000 [==============================] - 56s 929us/step - loss: 0.2598 - acc: 0.9194 - val_loss: 0.0589 - val_acc: 0.9814\n",
      "Epoch 3/12\n",
      "60000/60000 [==============================] - 55s 922us/step - loss: 0.1922 - acc: 0.9402 - val_loss: 0.0432 - val_acc: 0.9860\n",
      "Epoch 4/12\n",
      "60000/60000 [==============================] - 55s 919us/step - loss: 0.1590 - acc: 0.9517 - val_loss: 0.0381 - val_acc: 0.9866\n",
      "Epoch 5/12\n",
      "60000/60000 [==============================] - 55s 917us/step - loss: 0.1395 - acc: 0.9586 - val_loss: 0.0358 - val_acc: 0.9882\n",
      "Epoch 6/12\n",
      "60000/60000 [==============================] - 57s 954us/step - loss: 0.1215 - acc: 0.9629 - val_loss: 0.0358 - val_acc: 0.9879\n",
      "Epoch 7/12\n",
      "60000/60000 [==============================] - 55s 918us/step - loss: 0.1155 - acc: 0.9654 - val_loss: 0.0368 - val_acc: 0.9880\n",
      "Epoch 8/12\n",
      "60000/60000 [==============================] - 56s 931us/step - loss: 0.1059 - acc: 0.9696 - val_loss: 0.0285 - val_acc: 0.9914\n",
      "Epoch 9/12\n",
      "60000/60000 [==============================] - 56s 935us/step - loss: 0.0972 - acc: 0.9708 - val_loss: 0.0293 - val_acc: 0.9902\n",
      "Epoch 10/12\n",
      "60000/60000 [==============================] - 56s 935us/step - loss: 0.0902 - acc: 0.9741 - val_loss: 0.0237 - val_acc: 0.9927\n",
      "Epoch 11/12\n",
      "60000/60000 [==============================] - 56s 931us/step - loss: 0.0877 - acc: 0.9751 - val_loss: 0.0230 - val_acc: 0.9921\n",
      "Epoch 12/12\n",
      "60000/60000 [==============================] - 56s 936us/step - loss: 0.0841 - acc: 0.9748 - val_loss: 0.0232 - val_acc: 0.9927\n",
      "Test loss: 0.02319188763093698\n",
      "Test accuracy: 0.9927\n"
     ]
    }
   ],
   "source": [
    "import warnings\n",
    "warnings.filterwarnings(\"ignore\")\n",
    "# In this (First Model) lets follow the general structure of the lenet we will make a simple model\n",
    "# Network Architecture\n",
    "# input -> conv -> polling -> conv -> polling -> FC -> FC -> output\n",
    "# 8 16 120 84 10\n",
    "model = Sequential()\n",
    "model.add(Conv2D(6, kernel_size= (3, 3),activation='relu',padding='same',input_shape=input_shape))\n",
    "model.add(Conv2D(25, (5, 5), activation='relu'))\n",
    "model.add(MaxPooling2D(pool_size= (2, 2),strides=2))# for the location invariants\n",
    "model.add(Conv2D(25, (5, 5), activation='relu'))\n",
    "model.add(Conv2D(50, kernel_size= (3, 3), activation='relu'))\n",
    "model.add(MaxPooling2D(pool_size=(2, 2),strides=2))# for the location invariants\n",
    "\n",
    "model.add(Dropout(0.9))\n",
    "model.add(Flatten())\n",
    "\n",
    "model.add(Dense(120, activation='relu'))\n",
    "model.add(Dense(num_classes, activation='softmax'))\n",
    "model.compile(loss=keras.losses.categorical_crossentropy,\n",
    "              optimizer=keras.optimizers.adam(),\n",
    "              metrics=['accuracy'])\n",
    "# this will train the model and validate the model in this fit function\n",
    "model.summary()\n",
    "\n",
    "# Fitting the model\n",
    "history=model.fit(x_train, y_train,\n",
    "                  batch_size=batch_size,\n",
    "                  epochs=epochs,\n",
    "                  verbose=1,\n",
    "                  validation_data=(x_test, y_test))\n",
    "score = model.evaluate(x_test, y_test, verbose=0)\n",
    "print('Test loss:', score[0])\n",
    "print('Test accuracy:', score[1])"
   ]
  },
  {
   "cell_type": "markdown",
   "metadata": {},
   "source": [
    "### Plotting epoch vs loss"
   ]
  },
  {
   "cell_type": "code",
   "execution_count": 14,
   "metadata": {},
   "outputs": [
    {
     "name": "stdout",
     "output_type": "stream",
     "text": [
      "Train score: 0.021970069334746708\n",
      "Train accuracy: 99.31333333333333\n",
      "\n",
      "************************ *********************\n",
      "\n",
      "Test score: 0.02319188763093698\n",
      "Test accuracy: 99.27\n"
     ]
    },
    {
     "data": {
      "image/png": "[encoded data removed]",
      "text/plain": [
       "<Figure size 432x288 with 1 Axes>"
      ]
     },
     "metadata": {},
     "output_type": "display_data"
    }
   ],
   "source": [
    "score = model.evaluate(x_train, y_train, verbose=0)\n",
    "print('Train score:', score[0])\n",
    "print('Train accuracy:', score[1]*100)\n",
    "print('\\n************************ *********************\\n')\n",
    "#test accuracy\n",
    "score = model.evaluate(x_test, y_test, verbose=0)\n",
    "print('Test score:', score[0])\n",
    "print('Test accuracy:', score[1]*100)\n",
    "# plot\n",
    "fig,ax = plt.subplots(1,1)\n",
    "ax.set_xlabel('epoch');\n",
    "ax.set_ylabel('Categorical Crossentropy Loss')\n",
    "x = list(range(1,12+1))\n",
    "vy = history.history['val_loss']\n",
    "ty = history.history['loss']\n",
    "plt_dynamic(x, vy, ty, ax)"
   ]
  },
  {
   "cell_type": "markdown",
   "metadata": {},
   "source": [
    "### Compare all the model results"
   ]
  },
  {
   "cell_type": "code",
   "execution_count": 16,
   "metadata": {},
   "outputs": [
    {
     "name": "stdout",
     "output_type": "stream",
     "text": [
      "+-------------+----------------+--------------+---------+----------------+---------------------+\n",
      "| conv_layers | MAxPoll_layers | Dense_layers | Dropout | Train Accuracy | Validation Accuracy |\n",
      "+-------------+----------------+--------------+---------+----------------+---------------------+\n",
      "|      2      |       2        |      3       |    NO   |     99.74      |        99.02        |\n",
      "|      3      |       3        |      2       |    NO   |     99.27      |        98.73        |\n",
      "|      4      |       2        |      2       |    NO   |     99.69      |        99.29        |\n",
      "|      2      |       2        |      3       |   0.1   |      99.5      |        99.06        |\n",
      "|      3      |       3        |      2       |   0.5   |     97.16      |        98.66        |\n",
      "|      4      |       2        |      2       |   0.9   |     97.48      |        99.27        |\n",
      "+-------------+----------------+--------------+---------+----------------+---------------------+\n"
     ]
    }
   ],
   "source": [
    "from prettytable import PrettyTable\n",
    "tb = PrettyTable()\n",
    "tb.field_names= (\"conv_layers\", \"MAxPoll_layers\", \"Dense_layers\",\"Dropout\",\"Train Accuracy\",\"Validation Accuracy\")\n",
    "tb.add_row([\"2\", \"2\", \"3\", \"NO\", 99.74, 99.02])\n",
    "tb.add_row([\"3\", \"3\", \"2\", \"NO\", 99.27, 98.73])\n",
    "tb.add_row([\"4\", \"2\", \"2\", \"NO\", 99.69, 99.29])\n",
    "tb.add_row([\"2\", \"2\", \"3\", \"0.1\", 99.50, 99.06])\n",
    "tb.add_row([\"3\", \"3\", \"2\", \"0.5\", 97.16, 98.66])\n",
    "tb.add_row([\"4\", \"2\", \"2\", \"0.9\", 97.48, 99.27])\n",
    "\n",
    "print(tb.get_string(titles = \"CNN Models - Observations\"))"
   ]
  }
 ],
 "metadata": {
  "colab": {
   "collapsed_sections": [],
   "name": "CNN_MNIST.ipynb",
   "provenance": [],
   "version": "0.3.2"
  },
  "kernelspec": {
   "display_name": "Python 3",
   "language": "python",
   "name": "python3"
  },
  "language_info": {
   "codemirror_mode": {
    "name": "ipython",
    "version": 3
   },
   "file_extension": ".py",
   "mimetype": "text/x-python",
   "name": "python",
   "nbconvert_exporter": "python",
   "pygments_lexer": "ipython3",
   "version": "3.6.5"
  }
 },
 "nbformat": 4,
 "nbformat_minor": 1
}
